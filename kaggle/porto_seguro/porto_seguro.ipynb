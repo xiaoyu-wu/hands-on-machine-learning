{
 "cells": [
  {
   "cell_type": "markdown",
   "metadata": {
    "deletable": true,
    "editable": true
   },
   "source": [
    "# Download data"
   ]
  },
  {
   "cell_type": "code",
   "execution_count": 1,
   "metadata": {
    "collapsed": false,
    "deletable": true,
    "editable": true
   },
   "outputs": [],
   "source": [
    "import os\n",
    "CURR_PATH = os.getcwd()\n",
    "DATA_PATH = os.path.join(CURR_PATH, \"datasets\")\n",
    "TRAIN_DATA_FILE = \"train.csv\"\n",
    "TEST_DATA_FILE = \"test.csv\""
   ]
  },
  {
   "cell_type": "markdown",
   "metadata": {
    "deletable": true,
    "editable": true
   },
   "source": [
    "# A quick look at data"
   ]
  },
  {
   "cell_type": "code",
   "execution_count": 2,
   "metadata": {
    "collapsed": false,
    "deletable": true,
    "editable": true
   },
   "outputs": [
    {
     "data": {
      "text/html": [
       "<div>\n",
       "<table border=\"1\" class=\"dataframe\">\n",
       "  <thead>\n",
       "    <tr style=\"text-align: right;\">\n",
       "      <th></th>\n",
       "      <th>id</th>\n",
       "      <th>target</th>\n",
       "      <th>ps_ind_01</th>\n",
       "      <th>ps_ind_02_cat</th>\n",
       "      <th>ps_ind_03</th>\n",
       "      <th>ps_ind_04_cat</th>\n",
       "      <th>ps_ind_05_cat</th>\n",
       "      <th>ps_ind_06_bin</th>\n",
       "      <th>ps_ind_07_bin</th>\n",
       "      <th>ps_ind_08_bin</th>\n",
       "      <th>...</th>\n",
       "      <th>ps_calc_11</th>\n",
       "      <th>ps_calc_12</th>\n",
       "      <th>ps_calc_13</th>\n",
       "      <th>ps_calc_14</th>\n",
       "      <th>ps_calc_15_bin</th>\n",
       "      <th>ps_calc_16_bin</th>\n",
       "      <th>ps_calc_17_bin</th>\n",
       "      <th>ps_calc_18_bin</th>\n",
       "      <th>ps_calc_19_bin</th>\n",
       "      <th>ps_calc_20_bin</th>\n",
       "    </tr>\n",
       "  </thead>\n",
       "  <tbody>\n",
       "    <tr>\n",
       "      <th>0</th>\n",
       "      <td>7</td>\n",
       "      <td>0</td>\n",
       "      <td>2</td>\n",
       "      <td>2</td>\n",
       "      <td>5</td>\n",
       "      <td>1</td>\n",
       "      <td>0</td>\n",
       "      <td>0</td>\n",
       "      <td>1</td>\n",
       "      <td>0</td>\n",
       "      <td>...</td>\n",
       "      <td>9</td>\n",
       "      <td>1</td>\n",
       "      <td>5</td>\n",
       "      <td>8</td>\n",
       "      <td>0</td>\n",
       "      <td>1</td>\n",
       "      <td>1</td>\n",
       "      <td>0</td>\n",
       "      <td>0</td>\n",
       "      <td>1</td>\n",
       "    </tr>\n",
       "    <tr>\n",
       "      <th>1</th>\n",
       "      <td>9</td>\n",
       "      <td>0</td>\n",
       "      <td>1</td>\n",
       "      <td>1</td>\n",
       "      <td>7</td>\n",
       "      <td>0</td>\n",
       "      <td>0</td>\n",
       "      <td>0</td>\n",
       "      <td>0</td>\n",
       "      <td>1</td>\n",
       "      <td>...</td>\n",
       "      <td>3</td>\n",
       "      <td>1</td>\n",
       "      <td>1</td>\n",
       "      <td>9</td>\n",
       "      <td>0</td>\n",
       "      <td>1</td>\n",
       "      <td>1</td>\n",
       "      <td>0</td>\n",
       "      <td>1</td>\n",
       "      <td>0</td>\n",
       "    </tr>\n",
       "    <tr>\n",
       "      <th>2</th>\n",
       "      <td>13</td>\n",
       "      <td>0</td>\n",
       "      <td>5</td>\n",
       "      <td>4</td>\n",
       "      <td>9</td>\n",
       "      <td>1</td>\n",
       "      <td>0</td>\n",
       "      <td>0</td>\n",
       "      <td>0</td>\n",
       "      <td>1</td>\n",
       "      <td>...</td>\n",
       "      <td>4</td>\n",
       "      <td>2</td>\n",
       "      <td>7</td>\n",
       "      <td>7</td>\n",
       "      <td>0</td>\n",
       "      <td>1</td>\n",
       "      <td>1</td>\n",
       "      <td>0</td>\n",
       "      <td>1</td>\n",
       "      <td>0</td>\n",
       "    </tr>\n",
       "    <tr>\n",
       "      <th>3</th>\n",
       "      <td>16</td>\n",
       "      <td>0</td>\n",
       "      <td>0</td>\n",
       "      <td>1</td>\n",
       "      <td>2</td>\n",
       "      <td>0</td>\n",
       "      <td>0</td>\n",
       "      <td>1</td>\n",
       "      <td>0</td>\n",
       "      <td>0</td>\n",
       "      <td>...</td>\n",
       "      <td>2</td>\n",
       "      <td>2</td>\n",
       "      <td>4</td>\n",
       "      <td>9</td>\n",
       "      <td>0</td>\n",
       "      <td>0</td>\n",
       "      <td>0</td>\n",
       "      <td>0</td>\n",
       "      <td>0</td>\n",
       "      <td>0</td>\n",
       "    </tr>\n",
       "    <tr>\n",
       "      <th>4</th>\n",
       "      <td>17</td>\n",
       "      <td>0</td>\n",
       "      <td>0</td>\n",
       "      <td>2</td>\n",
       "      <td>0</td>\n",
       "      <td>1</td>\n",
       "      <td>0</td>\n",
       "      <td>1</td>\n",
       "      <td>0</td>\n",
       "      <td>0</td>\n",
       "      <td>...</td>\n",
       "      <td>3</td>\n",
       "      <td>1</td>\n",
       "      <td>1</td>\n",
       "      <td>3</td>\n",
       "      <td>0</td>\n",
       "      <td>0</td>\n",
       "      <td>0</td>\n",
       "      <td>1</td>\n",
       "      <td>1</td>\n",
       "      <td>0</td>\n",
       "    </tr>\n",
       "  </tbody>\n",
       "</table>\n",
       "<p>5 rows × 59 columns</p>\n",
       "</div>"
      ],
      "text/plain": [
       "   id  target  ps_ind_01  ps_ind_02_cat  ps_ind_03  ps_ind_04_cat  \\\n",
       "0   7       0          2              2          5              1   \n",
       "1   9       0          1              1          7              0   \n",
       "2  13       0          5              4          9              1   \n",
       "3  16       0          0              1          2              0   \n",
       "4  17       0          0              2          0              1   \n",
       "\n",
       "   ps_ind_05_cat  ps_ind_06_bin  ps_ind_07_bin  ps_ind_08_bin       ...        \\\n",
       "0              0              0              1              0       ...         \n",
       "1              0              0              0              1       ...         \n",
       "2              0              0              0              1       ...         \n",
       "3              0              1              0              0       ...         \n",
       "4              0              1              0              0       ...         \n",
       "\n",
       "   ps_calc_11  ps_calc_12  ps_calc_13  ps_calc_14  ps_calc_15_bin  \\\n",
       "0           9           1           5           8               0   \n",
       "1           3           1           1           9               0   \n",
       "2           4           2           7           7               0   \n",
       "3           2           2           4           9               0   \n",
       "4           3           1           1           3               0   \n",
       "\n",
       "   ps_calc_16_bin  ps_calc_17_bin  ps_calc_18_bin  ps_calc_19_bin  \\\n",
       "0               1               1               0               0   \n",
       "1               1               1               0               1   \n",
       "2               1               1               0               1   \n",
       "3               0               0               0               0   \n",
       "4               0               0               1               1   \n",
       "\n",
       "   ps_calc_20_bin  \n",
       "0               1  \n",
       "1               0  \n",
       "2               0  \n",
       "3               0  \n",
       "4               0  \n",
       "\n",
       "[5 rows x 59 columns]"
      ]
     },
     "execution_count": 2,
     "metadata": {},
     "output_type": "execute_result"
    }
   ],
   "source": [
    "import pandas as pd\n",
    "train_data = pd.read_csv(os.path.join(DATA_PATH, TRAIN_DATA_FILE))\n",
    "train_data.head()\n",
    "# train_data.info()"
   ]
  },
  {
   "cell_type": "code",
   "execution_count": 3,
   "metadata": {
    "collapsed": false,
    "deletable": true,
    "editable": true
   },
   "outputs": [
    {
     "data": {
      "text/html": [
       "<div>\n",
       "<table border=\"1\" class=\"dataframe\">\n",
       "  <thead>\n",
       "    <tr style=\"text-align: right;\">\n",
       "      <th></th>\n",
       "      <th>id</th>\n",
       "      <th>target</th>\n",
       "      <th>ps_ind_01</th>\n",
       "      <th>ps_ind_02_cat</th>\n",
       "      <th>ps_ind_03</th>\n",
       "      <th>ps_ind_04_cat</th>\n",
       "      <th>ps_ind_05_cat</th>\n",
       "      <th>ps_ind_06_bin</th>\n",
       "      <th>ps_ind_07_bin</th>\n",
       "      <th>ps_ind_08_bin</th>\n",
       "      <th>...</th>\n",
       "      <th>ps_calc_11</th>\n",
       "      <th>ps_calc_12</th>\n",
       "      <th>ps_calc_13</th>\n",
       "      <th>ps_calc_14</th>\n",
       "      <th>ps_calc_15_bin</th>\n",
       "      <th>ps_calc_16_bin</th>\n",
       "      <th>ps_calc_17_bin</th>\n",
       "      <th>ps_calc_18_bin</th>\n",
       "      <th>ps_calc_19_bin</th>\n",
       "      <th>ps_calc_20_bin</th>\n",
       "    </tr>\n",
       "  </thead>\n",
       "  <tbody>\n",
       "    <tr>\n",
       "      <th>count</th>\n",
       "      <td>5.952120e+05</td>\n",
       "      <td>595212.000000</td>\n",
       "      <td>595212.000000</td>\n",
       "      <td>595212.000000</td>\n",
       "      <td>595212.000000</td>\n",
       "      <td>595212.000000</td>\n",
       "      <td>595212.000000</td>\n",
       "      <td>595212.000000</td>\n",
       "      <td>595212.000000</td>\n",
       "      <td>595212.000000</td>\n",
       "      <td>...</td>\n",
       "      <td>595212.000000</td>\n",
       "      <td>595212.000000</td>\n",
       "      <td>595212.000000</td>\n",
       "      <td>595212.000000</td>\n",
       "      <td>595212.000000</td>\n",
       "      <td>595212.000000</td>\n",
       "      <td>595212.000000</td>\n",
       "      <td>595212.000000</td>\n",
       "      <td>595212.000000</td>\n",
       "      <td>595212.000000</td>\n",
       "    </tr>\n",
       "    <tr>\n",
       "      <th>mean</th>\n",
       "      <td>7.438036e+05</td>\n",
       "      <td>0.036448</td>\n",
       "      <td>1.900378</td>\n",
       "      <td>1.358943</td>\n",
       "      <td>4.423318</td>\n",
       "      <td>0.416794</td>\n",
       "      <td>0.405188</td>\n",
       "      <td>0.393742</td>\n",
       "      <td>0.257033</td>\n",
       "      <td>0.163921</td>\n",
       "      <td>...</td>\n",
       "      <td>5.441382</td>\n",
       "      <td>1.441918</td>\n",
       "      <td>2.872288</td>\n",
       "      <td>7.539026</td>\n",
       "      <td>0.122427</td>\n",
       "      <td>0.627840</td>\n",
       "      <td>0.554182</td>\n",
       "      <td>0.287182</td>\n",
       "      <td>0.349024</td>\n",
       "      <td>0.153318</td>\n",
       "    </tr>\n",
       "    <tr>\n",
       "      <th>std</th>\n",
       "      <td>4.293678e+05</td>\n",
       "      <td>0.187401</td>\n",
       "      <td>1.983789</td>\n",
       "      <td>0.664594</td>\n",
       "      <td>2.699902</td>\n",
       "      <td>0.493311</td>\n",
       "      <td>1.350642</td>\n",
       "      <td>0.488579</td>\n",
       "      <td>0.436998</td>\n",
       "      <td>0.370205</td>\n",
       "      <td>...</td>\n",
       "      <td>2.332871</td>\n",
       "      <td>1.202963</td>\n",
       "      <td>1.694887</td>\n",
       "      <td>2.746652</td>\n",
       "      <td>0.327779</td>\n",
       "      <td>0.483381</td>\n",
       "      <td>0.497056</td>\n",
       "      <td>0.452447</td>\n",
       "      <td>0.476662</td>\n",
       "      <td>0.360295</td>\n",
       "    </tr>\n",
       "    <tr>\n",
       "      <th>min</th>\n",
       "      <td>7.000000e+00</td>\n",
       "      <td>0.000000</td>\n",
       "      <td>0.000000</td>\n",
       "      <td>-1.000000</td>\n",
       "      <td>0.000000</td>\n",
       "      <td>-1.000000</td>\n",
       "      <td>-1.000000</td>\n",
       "      <td>0.000000</td>\n",
       "      <td>0.000000</td>\n",
       "      <td>0.000000</td>\n",
       "      <td>...</td>\n",
       "      <td>0.000000</td>\n",
       "      <td>0.000000</td>\n",
       "      <td>0.000000</td>\n",
       "      <td>0.000000</td>\n",
       "      <td>0.000000</td>\n",
       "      <td>0.000000</td>\n",
       "      <td>0.000000</td>\n",
       "      <td>0.000000</td>\n",
       "      <td>0.000000</td>\n",
       "      <td>0.000000</td>\n",
       "    </tr>\n",
       "    <tr>\n",
       "      <th>25%</th>\n",
       "      <td>3.719915e+05</td>\n",
       "      <td>0.000000</td>\n",
       "      <td>0.000000</td>\n",
       "      <td>1.000000</td>\n",
       "      <td>2.000000</td>\n",
       "      <td>0.000000</td>\n",
       "      <td>0.000000</td>\n",
       "      <td>0.000000</td>\n",
       "      <td>0.000000</td>\n",
       "      <td>0.000000</td>\n",
       "      <td>...</td>\n",
       "      <td>4.000000</td>\n",
       "      <td>1.000000</td>\n",
       "      <td>2.000000</td>\n",
       "      <td>6.000000</td>\n",
       "      <td>0.000000</td>\n",
       "      <td>0.000000</td>\n",
       "      <td>0.000000</td>\n",
       "      <td>0.000000</td>\n",
       "      <td>0.000000</td>\n",
       "      <td>0.000000</td>\n",
       "    </tr>\n",
       "    <tr>\n",
       "      <th>50%</th>\n",
       "      <td>7.435475e+05</td>\n",
       "      <td>0.000000</td>\n",
       "      <td>1.000000</td>\n",
       "      <td>1.000000</td>\n",
       "      <td>4.000000</td>\n",
       "      <td>0.000000</td>\n",
       "      <td>0.000000</td>\n",
       "      <td>0.000000</td>\n",
       "      <td>0.000000</td>\n",
       "      <td>0.000000</td>\n",
       "      <td>...</td>\n",
       "      <td>5.000000</td>\n",
       "      <td>1.000000</td>\n",
       "      <td>3.000000</td>\n",
       "      <td>7.000000</td>\n",
       "      <td>0.000000</td>\n",
       "      <td>1.000000</td>\n",
       "      <td>1.000000</td>\n",
       "      <td>0.000000</td>\n",
       "      <td>0.000000</td>\n",
       "      <td>0.000000</td>\n",
       "    </tr>\n",
       "    <tr>\n",
       "      <th>75%</th>\n",
       "      <td>1.115549e+06</td>\n",
       "      <td>0.000000</td>\n",
       "      <td>3.000000</td>\n",
       "      <td>2.000000</td>\n",
       "      <td>6.000000</td>\n",
       "      <td>1.000000</td>\n",
       "      <td>0.000000</td>\n",
       "      <td>1.000000</td>\n",
       "      <td>1.000000</td>\n",
       "      <td>0.000000</td>\n",
       "      <td>...</td>\n",
       "      <td>7.000000</td>\n",
       "      <td>2.000000</td>\n",
       "      <td>4.000000</td>\n",
       "      <td>9.000000</td>\n",
       "      <td>0.000000</td>\n",
       "      <td>1.000000</td>\n",
       "      <td>1.000000</td>\n",
       "      <td>1.000000</td>\n",
       "      <td>1.000000</td>\n",
       "      <td>0.000000</td>\n",
       "    </tr>\n",
       "    <tr>\n",
       "      <th>max</th>\n",
       "      <td>1.488027e+06</td>\n",
       "      <td>1.000000</td>\n",
       "      <td>7.000000</td>\n",
       "      <td>4.000000</td>\n",
       "      <td>11.000000</td>\n",
       "      <td>1.000000</td>\n",
       "      <td>6.000000</td>\n",
       "      <td>1.000000</td>\n",
       "      <td>1.000000</td>\n",
       "      <td>1.000000</td>\n",
       "      <td>...</td>\n",
       "      <td>19.000000</td>\n",
       "      <td>10.000000</td>\n",
       "      <td>13.000000</td>\n",
       "      <td>23.000000</td>\n",
       "      <td>1.000000</td>\n",
       "      <td>1.000000</td>\n",
       "      <td>1.000000</td>\n",
       "      <td>1.000000</td>\n",
       "      <td>1.000000</td>\n",
       "      <td>1.000000</td>\n",
       "    </tr>\n",
       "  </tbody>\n",
       "</table>\n",
       "<p>8 rows × 59 columns</p>\n",
       "</div>"
      ],
      "text/plain": [
       "                 id         target      ps_ind_01  ps_ind_02_cat  \\\n",
       "count  5.952120e+05  595212.000000  595212.000000  595212.000000   \n",
       "mean   7.438036e+05       0.036448       1.900378       1.358943   \n",
       "std    4.293678e+05       0.187401       1.983789       0.664594   \n",
       "min    7.000000e+00       0.000000       0.000000      -1.000000   \n",
       "25%    3.719915e+05       0.000000       0.000000       1.000000   \n",
       "50%    7.435475e+05       0.000000       1.000000       1.000000   \n",
       "75%    1.115549e+06       0.000000       3.000000       2.000000   \n",
       "max    1.488027e+06       1.000000       7.000000       4.000000   \n",
       "\n",
       "           ps_ind_03  ps_ind_04_cat  ps_ind_05_cat  ps_ind_06_bin  \\\n",
       "count  595212.000000  595212.000000  595212.000000  595212.000000   \n",
       "mean        4.423318       0.416794       0.405188       0.393742   \n",
       "std         2.699902       0.493311       1.350642       0.488579   \n",
       "min         0.000000      -1.000000      -1.000000       0.000000   \n",
       "25%         2.000000       0.000000       0.000000       0.000000   \n",
       "50%         4.000000       0.000000       0.000000       0.000000   \n",
       "75%         6.000000       1.000000       0.000000       1.000000   \n",
       "max        11.000000       1.000000       6.000000       1.000000   \n",
       "\n",
       "       ps_ind_07_bin  ps_ind_08_bin       ...           ps_calc_11  \\\n",
       "count  595212.000000  595212.000000       ...        595212.000000   \n",
       "mean        0.257033       0.163921       ...             5.441382   \n",
       "std         0.436998       0.370205       ...             2.332871   \n",
       "min         0.000000       0.000000       ...             0.000000   \n",
       "25%         0.000000       0.000000       ...             4.000000   \n",
       "50%         0.000000       0.000000       ...             5.000000   \n",
       "75%         1.000000       0.000000       ...             7.000000   \n",
       "max         1.000000       1.000000       ...            19.000000   \n",
       "\n",
       "          ps_calc_12     ps_calc_13     ps_calc_14  ps_calc_15_bin  \\\n",
       "count  595212.000000  595212.000000  595212.000000   595212.000000   \n",
       "mean        1.441918       2.872288       7.539026        0.122427   \n",
       "std         1.202963       1.694887       2.746652        0.327779   \n",
       "min         0.000000       0.000000       0.000000        0.000000   \n",
       "25%         1.000000       2.000000       6.000000        0.000000   \n",
       "50%         1.000000       3.000000       7.000000        0.000000   \n",
       "75%         2.000000       4.000000       9.000000        0.000000   \n",
       "max        10.000000      13.000000      23.000000        1.000000   \n",
       "\n",
       "       ps_calc_16_bin  ps_calc_17_bin  ps_calc_18_bin  ps_calc_19_bin  \\\n",
       "count   595212.000000   595212.000000   595212.000000   595212.000000   \n",
       "mean         0.627840        0.554182        0.287182        0.349024   \n",
       "std          0.483381        0.497056        0.452447        0.476662   \n",
       "min          0.000000        0.000000        0.000000        0.000000   \n",
       "25%          0.000000        0.000000        0.000000        0.000000   \n",
       "50%          1.000000        1.000000        0.000000        0.000000   \n",
       "75%          1.000000        1.000000        1.000000        1.000000   \n",
       "max          1.000000        1.000000        1.000000        1.000000   \n",
       "\n",
       "       ps_calc_20_bin  \n",
       "count   595212.000000  \n",
       "mean         0.153318  \n",
       "std          0.360295  \n",
       "min          0.000000  \n",
       "25%          0.000000  \n",
       "50%          0.000000  \n",
       "75%          0.000000  \n",
       "max          1.000000  \n",
       "\n",
       "[8 rows x 59 columns]"
      ]
     },
     "execution_count": 3,
     "metadata": {},
     "output_type": "execute_result"
    }
   ],
   "source": [
    "train_data.describe()"
   ]
  },
  {
   "cell_type": "code",
   "execution_count": 4,
   "metadata": {
    "collapsed": false,
    "deletable": true,
    "editable": true
   },
   "outputs": [],
   "source": [
    "import matplotlib.pyplot as plt\n",
    "%matplotlib inline\n",
    "# train_data.hist(bins=50, figsize=(20, 15))"
   ]
  },
  {
   "cell_type": "markdown",
   "metadata": {
    "deletable": true,
    "editable": true
   },
   "source": [
    "# Unstratified sampling\n",
    "1. Large amount of samples => less sampling bias\n",
    "2. Inplicit feature names"
   ]
  },
  {
   "cell_type": "code",
   "execution_count": 5,
   "metadata": {
    "collapsed": true,
    "deletable": true,
    "editable": true
   },
   "outputs": [],
   "source": [
    "from sklearn.model_selection import train_test_split\n",
    "train_set, test_set = train_test_split(train_data, test_size=0.2, random_state=42)"
   ]
  },
  {
   "cell_type": "code",
   "execution_count": 6,
   "metadata": {
    "collapsed": false,
    "deletable": true,
    "editable": true
   },
   "outputs": [
    {
     "data": {
      "text/plain": [
       "((476169, 59), (119043, 59))"
      ]
     },
     "execution_count": 6,
     "metadata": {},
     "output_type": "execute_result"
    }
   ],
   "source": [
    "train_set.shape, test_set.shape"
   ]
  },
  {
   "cell_type": "markdown",
   "metadata": {
    "deletable": true,
    "editable": true
   },
   "source": [
    "# EDA"
   ]
  },
  {
   "cell_type": "code",
   "execution_count": 7,
   "metadata": {
    "collapsed": false,
    "deletable": true,
    "editable": true
   },
   "outputs": [],
   "source": [
    "ps_train = train_set.copy()"
   ]
  },
  {
   "cell_type": "code",
   "execution_count": 8,
   "metadata": {
    "collapsed": false,
    "deletable": true,
    "editable": true
   },
   "outputs": [],
   "source": [
    "def feature_classifier(feature_name):\n",
    "    name_ending = feature_name.split('_')[-1]\n",
    "    try:\n",
    "        int(name_ending)\n",
    "        return 'num'\n",
    "    except ValueError:\n",
    "        return name_ending "
   ]
  },
  {
   "cell_type": "code",
   "execution_count": 9,
   "metadata": {
    "collapsed": false,
    "deletable": true,
    "editable": true
   },
   "outputs": [],
   "source": [
    "import pandas\n",
    "ps_train_cont = pandas.DataFrame()\n",
    "ps_train_cat = pandas.DataFrame()\n",
    "for column in ps_train.columns[2:]:\n",
    "    if feature_classifier(column) == 'num':\n",
    "        ps_train_cont[column] = ps_train[column]\n",
    "    else:\n",
    "        ps_train_cat[column] = ps_train[column]"
   ]
  },
  {
   "cell_type": "code",
   "execution_count": 10,
   "metadata": {
    "collapsed": false,
    "deletable": true,
    "editable": true
   },
   "outputs": [],
   "source": [
    "corr_matrix = ps_train_cont.corr()"
   ]
  },
  {
   "cell_type": "code",
   "execution_count": 11,
   "metadata": {
    "collapsed": false,
    "deletable": true,
    "editable": true
   },
   "outputs": [
    {
     "data": {
      "text/plain": [
       "ps_ind_01     0.222793\n",
       "ps_ind_03     0.222793\n",
       "ps_ind_14     0.021302\n",
       "ps_ind_15     0.172173\n",
       "ps_reg_01     0.637167\n",
       "ps_reg_02     0.516899\n",
       "ps_reg_03     0.637167\n",
       "ps_car_11     0.109689\n",
       "ps_car_12     0.672164\n",
       "ps_car_13     0.672164\n",
       "ps_car_14     0.034806\n",
       "ps_car_15     0.529814\n",
       "ps_calc_01    0.002994\n",
       "ps_calc_02    0.002170\n",
       "ps_calc_03    0.003065\n",
       "ps_calc_04    0.002994\n",
       "ps_calc_05    0.002081\n",
       "ps_calc_06    0.003588\n",
       "ps_calc_07    0.003065\n",
       "ps_calc_08    0.003735\n",
       "ps_calc_09    0.002146\n",
       "ps_calc_10    0.002093\n",
       "ps_calc_11    0.004328\n",
       "ps_calc_12    0.002440\n",
       "ps_calc_13    0.004328\n",
       "ps_calc_14    0.002093\n",
       "dtype: float64"
      ]
     },
     "execution_count": 11,
     "metadata": {},
     "output_type": "execute_result"
    }
   ],
   "source": [
    "new_df = corr_matrix.replace(1, 0)\n",
    "new_df.max()"
   ]
  },
  {
   "cell_type": "code",
   "execution_count": 12,
   "metadata": {
    "collapsed": false,
    "deletable": true,
    "editable": true
   },
   "outputs": [
    {
     "data": {
      "text/plain": [
       "ps_ind_01     0.163240\n",
       "ps_ind_03     0.088352\n",
       "ps_ind_14     0.018643\n",
       "ps_ind_15    -0.027629\n",
       "ps_reg_01     0.019405\n",
       "ps_reg_02     0.172470\n",
       "ps_reg_03     0.082938\n",
       "ps_car_11     0.056917\n",
       "ps_car_12     0.000000\n",
       "ps_car_13     0.672164\n",
       "ps_car_14     0.012614\n",
       "ps_car_15     0.049963\n",
       "ps_calc_01   -0.000934\n",
       "ps_calc_02   -0.000214\n",
       "ps_calc_03   -0.001296\n",
       "ps_calc_04   -0.000057\n",
       "ps_calc_05    0.000633\n",
       "ps_calc_06    0.001676\n",
       "ps_calc_07    0.000095\n",
       "ps_calc_08   -0.000440\n",
       "ps_calc_09    0.000598\n",
       "ps_calc_10    0.000517\n",
       "ps_calc_11   -0.001095\n",
       "ps_calc_12    0.000836\n",
       "ps_calc_13    0.000363\n",
       "ps_calc_14   -0.000334\n",
       "Name: ps_car_12, dtype: float64"
      ]
     },
     "execution_count": 12,
     "metadata": {},
     "output_type": "execute_result"
    }
   ],
   "source": [
    "new_df['ps_car_12']"
   ]
  },
  {
   "cell_type": "code",
   "execution_count": 13,
   "metadata": {
    "collapsed": false,
    "deletable": true,
    "editable": true,
    "scrolled": true
   },
   "outputs": [
    {
     "data": {
      "text/plain": [
       "(0, 1)"
      ]
     },
     "execution_count": 13,
     "metadata": {},
     "output_type": "execute_result"
    },
    {
     "data": {
      "image/png": "[encoded data removed]",
      "text/plain": [
       "<matplotlib.figure.Figure at 0xc16c4a8>"
      ]
     },
     "metadata": {},
     "output_type": "display_data"
    }
   ],
   "source": [
    "plt.scatter(ps_train_cont['ps_car_12'], ps_train_cont['ps_car_13'], alpha=0.5)\n",
    "plt.xlim([0, 1])"
   ]
  },
  {
   "cell_type": "markdown",
   "metadata": {
    "deletable": true,
    "editable": true
   },
   "source": [
    "'ps_car_12' and 'ps_car_13' have the strongest correlation among all features. But still not strong enough to be combined into one."
   ]
  },
  {
   "cell_type": "code",
   "execution_count": 14,
   "metadata": {
    "collapsed": true,
    "deletable": true,
    "editable": true
   },
   "outputs": [],
   "source": [
    "ps_train_cont['target'] = ps_train['target']\n",
    "ps_train_cat['target'] = ps_train['target']"
   ]
  },
  {
   "cell_type": "code",
   "execution_count": 15,
   "metadata": {
    "collapsed": false,
    "deletable": true,
    "editable": true
   },
   "outputs": [
    {
     "data": {
      "text/plain": [
       "<matplotlib.axes._subplots.AxesSubplot at 0x130e5f60>"
      ]
     },
     "execution_count": 15,
     "metadata": {},
     "output_type": "execute_result"
    },
    {
     "data": {
      "image/png": "[encoded data removed]",
      "text/plain": [
       "<matplotlib.figure.Figure at 0x130f8e48>"
      ]
     },
     "metadata": {},
     "output_type": "display_data"
    }
   ],
   "source": [
    "corr_matrix = ps_train_cont.corr()\n",
    "f, ax = plt.subplots(figsize=(20, 20))\n",
    "plt.xticks(rotation='90')\n",
    "import seaborn\n",
    "seaborn.heatmap(corr_matrix, square=True, linewidths=.5, annot=True)"
   ]
  },
  {
   "cell_type": "code",
   "execution_count": 16,
   "metadata": {
    "collapsed": false,
    "deletable": true,
    "editable": true
   },
   "outputs": [
    {
     "data": {
      "image/png": "[encoded data removed]",
      "text/plain": [
       "<matplotlib.figure.Figure at 0x110e40f0>"
      ]
     },
     "metadata": {},
     "output_type": "display_data"
    }
   ],
   "source": [
    "from utilities.plot import hist_with_target, hist_ratio_with_target\n",
    "hist_with_target(ps_train_cont, 'ps_ind_01', 'target')"
   ]
  },
  {
   "cell_type": "code",
   "execution_count": 17,
   "metadata": {
    "collapsed": false,
    "deletable": true,
    "editable": true
   },
   "outputs": [
    {
     "data": {
      "text/plain": [
       "0.0     0.033613\n",
       "1.0     0.036107\n",
       "2.0     0.036758\n",
       "3.0     0.034010\n",
       "4.0     0.036261\n",
       "5.0     0.037866\n",
       "6.0     0.036179\n",
       "7.0     0.036188\n",
       "8.0     0.035895\n",
       "9.0     0.036955\n",
       "10.0    0.036049\n",
       "11.0    0.036670\n",
       "12.0    0.035066\n",
       "13.0    0.035645\n",
       "14.0    0.040273\n",
       "15.0    0.035448\n",
       "16.0    0.039394\n",
       "17.0    0.035775\n",
       "18.0    0.020661\n",
       "19.0    0.050505\n",
       "20.0    0.025641\n",
       "21.0         NaN\n",
       "22.0         NaN\n",
       "23.0         NaN\n",
       "Name: feature_cat, dtype: float64"
      ]
     },
     "execution_count": 17,
     "metadata": {},
     "output_type": "execute_result"
    },
    {
     "data": {
      "image/png": "[encoded data removed]",
      "text/plain": [
       "<matplotlib.figure.Figure at 0x110d9630>"
      ]
     },
     "metadata": {},
     "output_type": "display_data"
    }
   ],
   "source": [
    "hist_ratio_with_target(ps_train, 'ps_calc_14', 'target')"
   ]
  },
  {
   "cell_type": "markdown",
   "metadata": {
    "deletable": true,
    "editable": true
   },
   "source": [
    "# Skipping attribute combination / feature engineering for now"
   ]
  },
  {
   "cell_type": "markdown",
   "metadata": {
    "deletable": true,
    "editable": true
   },
   "source": [
    "# Prepare the data for ML"
   ]
  },
  {
   "cell_type": "code",
   "execution_count": 18,
   "metadata": {
    "collapsed": false,
    "deletable": true,
    "editable": true
   },
   "outputs": [],
   "source": [
    "ps_train = train_set.drop('target', axis=1)\n",
    "ps_label = train_set['target'].copy()"
   ]
  },
  {
   "cell_type": "code",
   "execution_count": 19,
   "metadata": {
    "collapsed": false,
    "deletable": true,
    "editable": true
   },
   "outputs": [
    {
     "data": {
      "text/plain": [
       "((476169, 58), (99962, 58))"
      ]
     },
     "execution_count": 19,
     "metadata": {},
     "output_type": "execute_result"
    }
   ],
   "source": [
    "import numpy as np\n",
    "ps_train.replace(-1, np.nan, inplace=True)\n",
    "ps_train_nn = ps_train.dropna(axis=0)\n",
    "ps_train.shape, ps_train_nn.shape"
   ]
  },
  {
   "cell_type": "markdown",
   "metadata": {
    "deletable": true,
    "editable": true
   },
   "source": [
    "Some column contains too much NaN.."
   ]
  },
  {
   "cell_type": "code",
   "execution_count": 20,
   "metadata": {
    "collapsed": false,
    "deletable": true,
    "editable": true
   },
   "outputs": [
    {
     "name": "stdout",
     "output_type": "stream",
     "text": [
      "<class 'pandas.core.frame.DataFrame'>\n",
      "Int64Index: 476169 entries, 39028 to 121958\n",
      "Data columns (total 58 columns):\n",
      "id                476169 non-null int64\n",
      "ps_ind_01         476169 non-null int64\n",
      "ps_ind_02_cat     476006 non-null float64\n",
      "ps_ind_03         476169 non-null int64\n",
      "ps_ind_04_cat     476103 non-null float64\n",
      "ps_ind_05_cat     471532 non-null float64\n",
      "ps_ind_06_bin     476169 non-null int64\n",
      "ps_ind_07_bin     476169 non-null int64\n",
      "ps_ind_08_bin     476169 non-null int64\n",
      "ps_ind_09_bin     476169 non-null int64\n",
      "ps_ind_10_bin     476169 non-null int64\n",
      "ps_ind_11_bin     476169 non-null int64\n",
      "ps_ind_12_bin     476169 non-null int64\n",
      "ps_ind_13_bin     476169 non-null int64\n",
      "ps_ind_14         476169 non-null int64\n",
      "ps_ind_15         476169 non-null int64\n",
      "ps_ind_16_bin     476169 non-null int64\n",
      "ps_ind_17_bin     476169 non-null int64\n",
      "ps_ind_18_bin     476169 non-null int64\n",
      "ps_reg_01         476169 non-null float64\n",
      "ps_reg_02         476169 non-null float64\n",
      "ps_reg_03         390086 non-null float64\n",
      "ps_car_01_cat     476086 non-null float64\n",
      "ps_car_02_cat     476166 non-null float64\n",
      "ps_car_03_cat     147151 non-null float64\n",
      "ps_car_04_cat     476169 non-null int64\n",
      "ps_car_05_cat     262636 non-null float64\n",
      "ps_car_06_cat     476169 non-null int64\n",
      "ps_car_07_cat     467021 non-null float64\n",
      "ps_car_08_cat     476169 non-null int64\n",
      "ps_car_09_cat     475723 non-null float64\n",
      "ps_car_10_cat     476169 non-null int64\n",
      "ps_car_11_cat     476169 non-null int64\n",
      "ps_car_11         476167 non-null float64\n",
      "ps_car_12         476168 non-null float64\n",
      "ps_car_13         476169 non-null float64\n",
      "ps_car_14         442131 non-null float64\n",
      "ps_car_15         476169 non-null float64\n",
      "ps_calc_01        476169 non-null float64\n",
      "ps_calc_02        476169 non-null float64\n",
      "ps_calc_03        476169 non-null float64\n",
      "ps_calc_04        476169 non-null int64\n",
      "ps_calc_05        476169 non-null int64\n",
      "ps_calc_06        476169 non-null int64\n",
      "ps_calc_07        476169 non-null int64\n",
      "ps_calc_08        476169 non-null int64\n",
      "ps_calc_09        476169 non-null int64\n",
      "ps_calc_10        476169 non-null int64\n",
      "ps_calc_11        476169 non-null int64\n",
      "ps_calc_12        476169 non-null int64\n",
      "ps_calc_13        476169 non-null int64\n",
      "ps_calc_14        476169 non-null int64\n",
      "ps_calc_15_bin    476169 non-null int64\n",
      "ps_calc_16_bin    476169 non-null int64\n",
      "ps_calc_17_bin    476169 non-null int64\n",
      "ps_calc_18_bin    476169 non-null int64\n",
      "ps_calc_19_bin    476169 non-null int64\n",
      "ps_calc_20_bin    476169 non-null int64\n",
      "dtypes: float64(20), int64(38)\n",
      "memory usage: 214.3 MB\n"
     ]
    }
   ],
   "source": [
    "ps_train.info()"
   ]
  },
  {
   "cell_type": "code",
   "execution_count": 21,
   "metadata": {
    "collapsed": true,
    "deletable": true,
    "editable": true
   },
   "outputs": [],
   "source": [
    "from sklearn.preprocessing import Imputer, StandardScaler\n",
    "num_imputer = Imputer(strategy=\"median\")\n",
    "cat_imputer = Imputer(strategy=\"most_frequent\")"
   ]
  },
  {
   "cell_type": "code",
   "execution_count": 22,
   "metadata": {
    "collapsed": false,
    "deletable": true,
    "editable": true
   },
   "outputs": [],
   "source": [
    "columns = {'num':[], 'bin':[], 'cat':[]}\n",
    "\n",
    "for column in ps_train.columns[1:]:\n",
    "    feat_cls = feature_classifier(column)\n",
    "    columns[feat_cls].append(column)"
   ]
  },
  {
   "cell_type": "code",
   "execution_count": 23,
   "metadata": {
    "collapsed": false,
    "deletable": true,
    "editable": true
   },
   "outputs": [
    {
     "data": {
      "text/html": [
       "<div>\n",
       "<table border=\"1\" class=\"dataframe\">\n",
       "  <thead>\n",
       "    <tr style=\"text-align: right;\">\n",
       "      <th></th>\n",
       "      <th>ps_ind_02_cat</th>\n",
       "      <th>ps_ind_04_cat</th>\n",
       "      <th>ps_ind_05_cat</th>\n",
       "      <th>ps_car_01_cat</th>\n",
       "      <th>ps_car_02_cat</th>\n",
       "      <th>ps_car_03_cat</th>\n",
       "      <th>ps_car_04_cat</th>\n",
       "      <th>ps_car_05_cat</th>\n",
       "      <th>ps_car_06_cat</th>\n",
       "      <th>ps_car_07_cat</th>\n",
       "      <th>ps_car_08_cat</th>\n",
       "      <th>ps_car_09_cat</th>\n",
       "      <th>ps_car_10_cat</th>\n",
       "      <th>ps_car_11_cat</th>\n",
       "    </tr>\n",
       "  </thead>\n",
       "  <tbody>\n",
       "    <tr>\n",
       "      <th>count</th>\n",
       "      <td>476169.000000</td>\n",
       "      <td>476169.000000</td>\n",
       "      <td>476169.000000</td>\n",
       "      <td>476169.000000</td>\n",
       "      <td>476169.000000</td>\n",
       "      <td>476169.000000</td>\n",
       "      <td>476169.000000</td>\n",
       "      <td>476169.000000</td>\n",
       "      <td>476169.000000</td>\n",
       "      <td>476169.000000</td>\n",
       "      <td>476169.000000</td>\n",
       "      <td>476169.000000</td>\n",
       "      <td>476169.000000</td>\n",
       "      <td>476169.000000</td>\n",
       "    </tr>\n",
       "    <tr>\n",
       "      <th>mean</th>\n",
       "      <td>1.359414</td>\n",
       "      <td>0.416673</td>\n",
       "      <td>0.415544</td>\n",
       "      <td>8.296729</td>\n",
       "      <td>0.830474</td>\n",
       "      <td>0.877069</td>\n",
       "      <td>0.724545</td>\n",
       "      <td>0.738166</td>\n",
       "      <td>6.553119</td>\n",
       "      <td>0.948871</td>\n",
       "      <td>0.832614</td>\n",
       "      <td>1.332731</td>\n",
       "      <td>0.992133</td>\n",
       "      <td>62.216581</td>\n",
       "    </tr>\n",
       "    <tr>\n",
       "      <th>std</th>\n",
       "      <td>0.662437</td>\n",
       "      <td>0.493008</td>\n",
       "      <td>1.345156</td>\n",
       "      <td>2.505109</td>\n",
       "      <td>0.375216</td>\n",
       "      <td>0.328358</td>\n",
       "      <td>2.152783</td>\n",
       "      <td>0.439633</td>\n",
       "      <td>5.500296</td>\n",
       "      <td>0.220261</td>\n",
       "      <td>0.373320</td>\n",
       "      <td>0.976277</td>\n",
       "      <td>0.091728</td>\n",
       "      <td>33.005739</td>\n",
       "    </tr>\n",
       "    <tr>\n",
       "      <th>min</th>\n",
       "      <td>1.000000</td>\n",
       "      <td>0.000000</td>\n",
       "      <td>0.000000</td>\n",
       "      <td>0.000000</td>\n",
       "      <td>0.000000</td>\n",
       "      <td>0.000000</td>\n",
       "      <td>0.000000</td>\n",
       "      <td>0.000000</td>\n",
       "      <td>0.000000</td>\n",
       "      <td>0.000000</td>\n",
       "      <td>0.000000</td>\n",
       "      <td>0.000000</td>\n",
       "      <td>0.000000</td>\n",
       "      <td>1.000000</td>\n",
       "    </tr>\n",
       "    <tr>\n",
       "      <th>25%</th>\n",
       "      <td>1.000000</td>\n",
       "      <td>0.000000</td>\n",
       "      <td>0.000000</td>\n",
       "      <td>7.000000</td>\n",
       "      <td>1.000000</td>\n",
       "      <td>1.000000</td>\n",
       "      <td>0.000000</td>\n",
       "      <td>0.000000</td>\n",
       "      <td>1.000000</td>\n",
       "      <td>1.000000</td>\n",
       "      <td>1.000000</td>\n",
       "      <td>0.000000</td>\n",
       "      <td>1.000000</td>\n",
       "      <td>32.000000</td>\n",
       "    </tr>\n",
       "    <tr>\n",
       "      <th>50%</th>\n",
       "      <td>1.000000</td>\n",
       "      <td>0.000000</td>\n",
       "      <td>0.000000</td>\n",
       "      <td>7.000000</td>\n",
       "      <td>1.000000</td>\n",
       "      <td>1.000000</td>\n",
       "      <td>0.000000</td>\n",
       "      <td>1.000000</td>\n",
       "      <td>7.000000</td>\n",
       "      <td>1.000000</td>\n",
       "      <td>1.000000</td>\n",
       "      <td>2.000000</td>\n",
       "      <td>1.000000</td>\n",
       "      <td>65.000000</td>\n",
       "    </tr>\n",
       "    <tr>\n",
       "      <th>75%</th>\n",
       "      <td>2.000000</td>\n",
       "      <td>1.000000</td>\n",
       "      <td>0.000000</td>\n",
       "      <td>11.000000</td>\n",
       "      <td>1.000000</td>\n",
       "      <td>1.000000</td>\n",
       "      <td>0.000000</td>\n",
       "      <td>1.000000</td>\n",
       "      <td>11.000000</td>\n",
       "      <td>1.000000</td>\n",
       "      <td>1.000000</td>\n",
       "      <td>2.000000</td>\n",
       "      <td>1.000000</td>\n",
       "      <td>93.000000</td>\n",
       "    </tr>\n",
       "    <tr>\n",
       "      <th>max</th>\n",
       "      <td>4.000000</td>\n",
       "      <td>1.000000</td>\n",
       "      <td>6.000000</td>\n",
       "      <td>11.000000</td>\n",
       "      <td>1.000000</td>\n",
       "      <td>1.000000</td>\n",
       "      <td>9.000000</td>\n",
       "      <td>1.000000</td>\n",
       "      <td>17.000000</td>\n",
       "      <td>1.000000</td>\n",
       "      <td>1.000000</td>\n",
       "      <td>4.000000</td>\n",
       "      <td>2.000000</td>\n",
       "      <td>104.000000</td>\n",
       "    </tr>\n",
       "  </tbody>\n",
       "</table>\n",
       "</div>"
      ],
      "text/plain": [
       "       ps_ind_02_cat  ps_ind_04_cat  ps_ind_05_cat  ps_car_01_cat  \\\n",
       "count  476169.000000  476169.000000  476169.000000  476169.000000   \n",
       "mean        1.359414       0.416673       0.415544       8.296729   \n",
       "std         0.662437       0.493008       1.345156       2.505109   \n",
       "min         1.000000       0.000000       0.000000       0.000000   \n",
       "25%         1.000000       0.000000       0.000000       7.000000   \n",
       "50%         1.000000       0.000000       0.000000       7.000000   \n",
       "75%         2.000000       1.000000       0.000000      11.000000   \n",
       "max         4.000000       1.000000       6.000000      11.000000   \n",
       "\n",
       "       ps_car_02_cat  ps_car_03_cat  ps_car_04_cat  ps_car_05_cat  \\\n",
       "count  476169.000000  476169.000000  476169.000000  476169.000000   \n",
       "mean        0.830474       0.877069       0.724545       0.738166   \n",
       "std         0.375216       0.328358       2.152783       0.439633   \n",
       "min         0.000000       0.000000       0.000000       0.000000   \n",
       "25%         1.000000       1.000000       0.000000       0.000000   \n",
       "50%         1.000000       1.000000       0.000000       1.000000   \n",
       "75%         1.000000       1.000000       0.000000       1.000000   \n",
       "max         1.000000       1.000000       9.000000       1.000000   \n",
       "\n",
       "       ps_car_06_cat  ps_car_07_cat  ps_car_08_cat  ps_car_09_cat  \\\n",
       "count  476169.000000  476169.000000  476169.000000  476169.000000   \n",
       "mean        6.553119       0.948871       0.832614       1.332731   \n",
       "std         5.500296       0.220261       0.373320       0.976277   \n",
       "min         0.000000       0.000000       0.000000       0.000000   \n",
       "25%         1.000000       1.000000       1.000000       0.000000   \n",
       "50%         7.000000       1.000000       1.000000       2.000000   \n",
       "75%        11.000000       1.000000       1.000000       2.000000   \n",
       "max        17.000000       1.000000       1.000000       4.000000   \n",
       "\n",
       "       ps_car_10_cat  ps_car_11_cat  \n",
       "count  476169.000000  476169.000000  \n",
       "mean        0.992133      62.216581  \n",
       "std         0.091728      33.005739  \n",
       "min         0.000000       1.000000  \n",
       "25%         1.000000      32.000000  \n",
       "50%         1.000000      65.000000  \n",
       "75%         1.000000      93.000000  \n",
       "max         2.000000     104.000000  "
      ]
     },
     "execution_count": 23,
     "metadata": {},
     "output_type": "execute_result"
    }
   ],
   "source": [
    "ps_train_cat = ps_train[columns['cat']]\n",
    "ps_train_cat_iptd = pandas.DataFrame(cat_imputer.fit_transform(ps_train_cat), columns=columns['cat'])\n",
    "ps_train_cat_iptd.describe()"
   ]
  },
  {
   "cell_type": "code",
   "execution_count": 24,
   "metadata": {
    "collapsed": false,
    "deletable": true,
    "editable": true
   },
   "outputs": [
    {
     "data": {
      "text/html": [
       "<div>\n",
       "<table border=\"1\" class=\"dataframe\">\n",
       "  <thead>\n",
       "    <tr style=\"text-align: right;\">\n",
       "      <th></th>\n",
       "      <th>ps_ind_06_bin</th>\n",
       "      <th>ps_ind_07_bin</th>\n",
       "      <th>ps_ind_08_bin</th>\n",
       "      <th>ps_ind_09_bin</th>\n",
       "      <th>ps_ind_10_bin</th>\n",
       "      <th>ps_ind_11_bin</th>\n",
       "      <th>ps_ind_12_bin</th>\n",
       "      <th>ps_ind_13_bin</th>\n",
       "      <th>ps_ind_16_bin</th>\n",
       "      <th>ps_ind_17_bin</th>\n",
       "      <th>ps_ind_18_bin</th>\n",
       "      <th>ps_calc_15_bin</th>\n",
       "      <th>ps_calc_16_bin</th>\n",
       "      <th>ps_calc_17_bin</th>\n",
       "      <th>ps_calc_18_bin</th>\n",
       "      <th>ps_calc_19_bin</th>\n",
       "      <th>ps_calc_20_bin</th>\n",
       "    </tr>\n",
       "  </thead>\n",
       "  <tbody>\n",
       "    <tr>\n",
       "      <th>count</th>\n",
       "      <td>476169.000000</td>\n",
       "      <td>476169.000000</td>\n",
       "      <td>476169.000000</td>\n",
       "      <td>476169.000000</td>\n",
       "      <td>476169.000000</td>\n",
       "      <td>476169.000000</td>\n",
       "      <td>476169.000000</td>\n",
       "      <td>476169.000000</td>\n",
       "      <td>476169.000000</td>\n",
       "      <td>476169.000000</td>\n",
       "      <td>476169.000000</td>\n",
       "      <td>476169.000000</td>\n",
       "      <td>476169.000000</td>\n",
       "      <td>476169.000000</td>\n",
       "      <td>476169.000000</td>\n",
       "      <td>476169.000000</td>\n",
       "      <td>476169.000000</td>\n",
       "    </tr>\n",
       "    <tr>\n",
       "      <th>mean</th>\n",
       "      <td>0.393795</td>\n",
       "      <td>0.256755</td>\n",
       "      <td>0.164110</td>\n",
       "      <td>0.185340</td>\n",
       "      <td>0.000374</td>\n",
       "      <td>0.001688</td>\n",
       "      <td>0.009343</td>\n",
       "      <td>0.000916</td>\n",
       "      <td>0.660570</td>\n",
       "      <td>0.121301</td>\n",
       "      <td>0.153519</td>\n",
       "      <td>0.122423</td>\n",
       "      <td>0.627857</td>\n",
       "      <td>0.554141</td>\n",
       "      <td>0.287207</td>\n",
       "      <td>0.348584</td>\n",
       "      <td>0.153393</td>\n",
       "    </tr>\n",
       "    <tr>\n",
       "      <th>std</th>\n",
       "      <td>0.488591</td>\n",
       "      <td>0.436844</td>\n",
       "      <td>0.370376</td>\n",
       "      <td>0.388573</td>\n",
       "      <td>0.019331</td>\n",
       "      <td>0.041056</td>\n",
       "      <td>0.096208</td>\n",
       "      <td>0.030246</td>\n",
       "      <td>0.473516</td>\n",
       "      <td>0.326478</td>\n",
       "      <td>0.360487</td>\n",
       "      <td>0.327774</td>\n",
       "      <td>0.483377</td>\n",
       "      <td>0.497061</td>\n",
       "      <td>0.452459</td>\n",
       "      <td>0.476523</td>\n",
       "      <td>0.360366</td>\n",
       "    </tr>\n",
       "    <tr>\n",
       "      <th>min</th>\n",
       "      <td>0.000000</td>\n",
       "      <td>0.000000</td>\n",
       "      <td>0.000000</td>\n",
       "      <td>0.000000</td>\n",
       "      <td>0.000000</td>\n",
       "      <td>0.000000</td>\n",
       "      <td>0.000000</td>\n",
       "      <td>0.000000</td>\n",
       "      <td>0.000000</td>\n",
       "      <td>0.000000</td>\n",
       "      <td>0.000000</td>\n",
       "      <td>0.000000</td>\n",
       "      <td>0.000000</td>\n",
       "      <td>0.000000</td>\n",
       "      <td>0.000000</td>\n",
       "      <td>0.000000</td>\n",
       "      <td>0.000000</td>\n",
       "    </tr>\n",
       "    <tr>\n",
       "      <th>25%</th>\n",
       "      <td>0.000000</td>\n",
       "      <td>0.000000</td>\n",
       "      <td>0.000000</td>\n",
       "      <td>0.000000</td>\n",
       "      <td>0.000000</td>\n",
       "      <td>0.000000</td>\n",
       "      <td>0.000000</td>\n",
       "      <td>0.000000</td>\n",
       "      <td>0.000000</td>\n",
       "      <td>0.000000</td>\n",
       "      <td>0.000000</td>\n",
       "      <td>0.000000</td>\n",
       "      <td>0.000000</td>\n",
       "      <td>0.000000</td>\n",
       "      <td>0.000000</td>\n",
       "      <td>0.000000</td>\n",
       "      <td>0.000000</td>\n",
       "    </tr>\n",
       "    <tr>\n",
       "      <th>50%</th>\n",
       "      <td>0.000000</td>\n",
       "      <td>0.000000</td>\n",
       "      <td>0.000000</td>\n",
       "      <td>0.000000</td>\n",
       "      <td>0.000000</td>\n",
       "      <td>0.000000</td>\n",
       "      <td>0.000000</td>\n",
       "      <td>0.000000</td>\n",
       "      <td>1.000000</td>\n",
       "      <td>0.000000</td>\n",
       "      <td>0.000000</td>\n",
       "      <td>0.000000</td>\n",
       "      <td>1.000000</td>\n",
       "      <td>1.000000</td>\n",
       "      <td>0.000000</td>\n",
       "      <td>0.000000</td>\n",
       "      <td>0.000000</td>\n",
       "    </tr>\n",
       "    <tr>\n",
       "      <th>75%</th>\n",
       "      <td>1.000000</td>\n",
       "      <td>1.000000</td>\n",
       "      <td>0.000000</td>\n",
       "      <td>0.000000</td>\n",
       "      <td>0.000000</td>\n",
       "      <td>0.000000</td>\n",
       "      <td>0.000000</td>\n",
       "      <td>0.000000</td>\n",
       "      <td>1.000000</td>\n",
       "      <td>0.000000</td>\n",
       "      <td>0.000000</td>\n",
       "      <td>0.000000</td>\n",
       "      <td>1.000000</td>\n",
       "      <td>1.000000</td>\n",
       "      <td>1.000000</td>\n",
       "      <td>1.000000</td>\n",
       "      <td>0.000000</td>\n",
       "    </tr>\n",
       "    <tr>\n",
       "      <th>max</th>\n",
       "      <td>1.000000</td>\n",
       "      <td>1.000000</td>\n",
       "      <td>1.000000</td>\n",
       "      <td>1.000000</td>\n",
       "      <td>1.000000</td>\n",
       "      <td>1.000000</td>\n",
       "      <td>1.000000</td>\n",
       "      <td>1.000000</td>\n",
       "      <td>1.000000</td>\n",
       "      <td>1.000000</td>\n",
       "      <td>1.000000</td>\n",
       "      <td>1.000000</td>\n",
       "      <td>1.000000</td>\n",
       "      <td>1.000000</td>\n",
       "      <td>1.000000</td>\n",
       "      <td>1.000000</td>\n",
       "      <td>1.000000</td>\n",
       "    </tr>\n",
       "  </tbody>\n",
       "</table>\n",
       "</div>"
      ],
      "text/plain": [
       "       ps_ind_06_bin  ps_ind_07_bin  ps_ind_08_bin  ps_ind_09_bin  \\\n",
       "count  476169.000000  476169.000000  476169.000000  476169.000000   \n",
       "mean        0.393795       0.256755       0.164110       0.185340   \n",
       "std         0.488591       0.436844       0.370376       0.388573   \n",
       "min         0.000000       0.000000       0.000000       0.000000   \n",
       "25%         0.000000       0.000000       0.000000       0.000000   \n",
       "50%         0.000000       0.000000       0.000000       0.000000   \n",
       "75%         1.000000       1.000000       0.000000       0.000000   \n",
       "max         1.000000       1.000000       1.000000       1.000000   \n",
       "\n",
       "       ps_ind_10_bin  ps_ind_11_bin  ps_ind_12_bin  ps_ind_13_bin  \\\n",
       "count  476169.000000  476169.000000  476169.000000  476169.000000   \n",
       "mean        0.000374       0.001688       0.009343       0.000916   \n",
       "std         0.019331       0.041056       0.096208       0.030246   \n",
       "min         0.000000       0.000000       0.000000       0.000000   \n",
       "25%         0.000000       0.000000       0.000000       0.000000   \n",
       "50%         0.000000       0.000000       0.000000       0.000000   \n",
       "75%         0.000000       0.000000       0.000000       0.000000   \n",
       "max         1.000000       1.000000       1.000000       1.000000   \n",
       "\n",
       "       ps_ind_16_bin  ps_ind_17_bin  ps_ind_18_bin  ps_calc_15_bin  \\\n",
       "count  476169.000000  476169.000000  476169.000000   476169.000000   \n",
       "mean        0.660570       0.121301       0.153519        0.122423   \n",
       "std         0.473516       0.326478       0.360487        0.327774   \n",
       "min         0.000000       0.000000       0.000000        0.000000   \n",
       "25%         0.000000       0.000000       0.000000        0.000000   \n",
       "50%         1.000000       0.000000       0.000000        0.000000   \n",
       "75%         1.000000       0.000000       0.000000        0.000000   \n",
       "max         1.000000       1.000000       1.000000        1.000000   \n",
       "\n",
       "       ps_calc_16_bin  ps_calc_17_bin  ps_calc_18_bin  ps_calc_19_bin  \\\n",
       "count   476169.000000   476169.000000   476169.000000   476169.000000   \n",
       "mean         0.627857        0.554141        0.287207        0.348584   \n",
       "std          0.483377        0.497061        0.452459        0.476523   \n",
       "min          0.000000        0.000000        0.000000        0.000000   \n",
       "25%          0.000000        0.000000        0.000000        0.000000   \n",
       "50%          1.000000        1.000000        0.000000        0.000000   \n",
       "75%          1.000000        1.000000        1.000000        1.000000   \n",
       "max          1.000000        1.000000        1.000000        1.000000   \n",
       "\n",
       "       ps_calc_20_bin  \n",
       "count   476169.000000  \n",
       "mean         0.153393  \n",
       "std          0.360366  \n",
       "min          0.000000  \n",
       "25%          0.000000  \n",
       "50%          0.000000  \n",
       "75%          0.000000  \n",
       "max          1.000000  "
      ]
     },
     "execution_count": 24,
     "metadata": {},
     "output_type": "execute_result"
    }
   ],
   "source": [
    "ps_train_bin = ps_train[columns['bin']]\n",
    "ps_train_bin_iptd = pandas.DataFrame(cat_imputer.fit_transform(ps_train_bin), columns=columns['bin'])\n",
    "ps_train_bin_iptd.describe()"
   ]
  },
  {
   "cell_type": "code",
   "execution_count": 25,
   "metadata": {
    "collapsed": false,
    "deletable": true,
    "editable": true
   },
   "outputs": [
    {
     "data": {
      "text/html": [
       "<div>\n",
       "<table border=\"1\" class=\"dataframe\">\n",
       "  <thead>\n",
       "    <tr style=\"text-align: right;\">\n",
       "      <th></th>\n",
       "      <th>ps_ind_01</th>\n",
       "      <th>ps_ind_03</th>\n",
       "      <th>ps_ind_14</th>\n",
       "      <th>ps_ind_15</th>\n",
       "      <th>ps_reg_01</th>\n",
       "      <th>ps_reg_02</th>\n",
       "      <th>ps_reg_03</th>\n",
       "      <th>ps_car_11</th>\n",
       "      <th>ps_car_12</th>\n",
       "      <th>ps_car_13</th>\n",
       "      <th>...</th>\n",
       "      <th>ps_calc_05</th>\n",
       "      <th>ps_calc_06</th>\n",
       "      <th>ps_calc_07</th>\n",
       "      <th>ps_calc_08</th>\n",
       "      <th>ps_calc_09</th>\n",
       "      <th>ps_calc_10</th>\n",
       "      <th>ps_calc_11</th>\n",
       "      <th>ps_calc_12</th>\n",
       "      <th>ps_calc_13</th>\n",
       "      <th>ps_calc_14</th>\n",
       "    </tr>\n",
       "  </thead>\n",
       "  <tbody>\n",
       "    <tr>\n",
       "      <th>count</th>\n",
       "      <td>476169.000000</td>\n",
       "      <td>476169.000000</td>\n",
       "      <td>476169.000000</td>\n",
       "      <td>476169.000000</td>\n",
       "      <td>476169.000000</td>\n",
       "      <td>476169.000000</td>\n",
       "      <td>476169.000000</td>\n",
       "      <td>476169.000000</td>\n",
       "      <td>476169.000000</td>\n",
       "      <td>476169.000000</td>\n",
       "      <td>...</td>\n",
       "      <td>476169.000000</td>\n",
       "      <td>476169.000000</td>\n",
       "      <td>476169.000000</td>\n",
       "      <td>476169.000000</td>\n",
       "      <td>476169.000000</td>\n",
       "      <td>476169.000000</td>\n",
       "      <td>476169.000000</td>\n",
       "      <td>476169.000000</td>\n",
       "      <td>476169.000000</td>\n",
       "      <td>476169.000000</td>\n",
       "    </tr>\n",
       "    <tr>\n",
       "      <th>mean</th>\n",
       "      <td>1.901004</td>\n",
       "      <td>4.423929</td>\n",
       "      <td>0.012321</td>\n",
       "      <td>7.299026</td>\n",
       "      <td>0.611008</td>\n",
       "      <td>0.439366</td>\n",
       "      <td>0.877441</td>\n",
       "      <td>2.345984</td>\n",
       "      <td>0.379886</td>\n",
       "      <td>0.812921</td>\n",
       "      <td>...</td>\n",
       "      <td>1.885935</td>\n",
       "      <td>7.691024</td>\n",
       "      <td>3.005349</td>\n",
       "      <td>9.226027</td>\n",
       "      <td>2.337996</td>\n",
       "      <td>8.433002</td>\n",
       "      <td>5.440890</td>\n",
       "      <td>1.441929</td>\n",
       "      <td>2.871985</td>\n",
       "      <td>7.539964</td>\n",
       "    </tr>\n",
       "    <tr>\n",
       "      <th>std</th>\n",
       "      <td>1.984243</td>\n",
       "      <td>2.700678</td>\n",
       "      <td>0.127104</td>\n",
       "      <td>3.546075</td>\n",
       "      <td>0.287482</td>\n",
       "      <td>0.404367</td>\n",
       "      <td>0.314370</td>\n",
       "      <td>0.832641</td>\n",
       "      <td>0.058221</td>\n",
       "      <td>0.224257</td>\n",
       "      <td>...</td>\n",
       "      <td>1.135695</td>\n",
       "      <td>1.334917</td>\n",
       "      <td>1.414745</td>\n",
       "      <td>1.459524</td>\n",
       "      <td>1.247195</td>\n",
       "      <td>2.904316</td>\n",
       "      <td>2.332966</td>\n",
       "      <td>1.202766</td>\n",
       "      <td>1.694820</td>\n",
       "      <td>2.745810</td>\n",
       "    </tr>\n",
       "    <tr>\n",
       "      <th>min</th>\n",
       "      <td>0.000000</td>\n",
       "      <td>0.000000</td>\n",
       "      <td>0.000000</td>\n",
       "      <td>0.000000</td>\n",
       "      <td>0.000000</td>\n",
       "      <td>0.000000</td>\n",
       "      <td>0.061237</td>\n",
       "      <td>0.000000</td>\n",
       "      <td>0.100000</td>\n",
       "      <td>0.250619</td>\n",
       "      <td>...</td>\n",
       "      <td>0.000000</td>\n",
       "      <td>0.000000</td>\n",
       "      <td>0.000000</td>\n",
       "      <td>2.000000</td>\n",
       "      <td>0.000000</td>\n",
       "      <td>0.000000</td>\n",
       "      <td>0.000000</td>\n",
       "      <td>0.000000</td>\n",
       "      <td>0.000000</td>\n",
       "      <td>0.000000</td>\n",
       "    </tr>\n",
       "    <tr>\n",
       "      <th>25%</th>\n",
       "      <td>0.000000</td>\n",
       "      <td>2.000000</td>\n",
       "      <td>0.000000</td>\n",
       "      <td>5.000000</td>\n",
       "      <td>0.400000</td>\n",
       "      <td>0.200000</td>\n",
       "      <td>0.666615</td>\n",
       "      <td>2.000000</td>\n",
       "      <td>0.316228</td>\n",
       "      <td>0.670617</td>\n",
       "      <td>...</td>\n",
       "      <td>1.000000</td>\n",
       "      <td>7.000000</td>\n",
       "      <td>2.000000</td>\n",
       "      <td>8.000000</td>\n",
       "      <td>1.000000</td>\n",
       "      <td>6.000000</td>\n",
       "      <td>4.000000</td>\n",
       "      <td>1.000000</td>\n",
       "      <td>2.000000</td>\n",
       "      <td>6.000000</td>\n",
       "    </tr>\n",
       "    <tr>\n",
       "      <th>50%</th>\n",
       "      <td>1.000000</td>\n",
       "      <td>4.000000</td>\n",
       "      <td>0.000000</td>\n",
       "      <td>7.000000</td>\n",
       "      <td>0.700000</td>\n",
       "      <td>0.300000</td>\n",
       "      <td>0.801951</td>\n",
       "      <td>3.000000</td>\n",
       "      <td>0.374166</td>\n",
       "      <td>0.765582</td>\n",
       "      <td>...</td>\n",
       "      <td>2.000000</td>\n",
       "      <td>8.000000</td>\n",
       "      <td>3.000000</td>\n",
       "      <td>9.000000</td>\n",
       "      <td>2.000000</td>\n",
       "      <td>8.000000</td>\n",
       "      <td>5.000000</td>\n",
       "      <td>1.000000</td>\n",
       "      <td>3.000000</td>\n",
       "      <td>7.000000</td>\n",
       "    </tr>\n",
       "    <tr>\n",
       "      <th>75%</th>\n",
       "      <td>3.000000</td>\n",
       "      <td>6.000000</td>\n",
       "      <td>0.000000</td>\n",
       "      <td>10.000000</td>\n",
       "      <td>0.900000</td>\n",
       "      <td>0.600000</td>\n",
       "      <td>1.000625</td>\n",
       "      <td>3.000000</td>\n",
       "      <td>0.400000</td>\n",
       "      <td>0.905755</td>\n",
       "      <td>...</td>\n",
       "      <td>3.000000</td>\n",
       "      <td>9.000000</td>\n",
       "      <td>4.000000</td>\n",
       "      <td>10.000000</td>\n",
       "      <td>3.000000</td>\n",
       "      <td>10.000000</td>\n",
       "      <td>7.000000</td>\n",
       "      <td>2.000000</td>\n",
       "      <td>4.000000</td>\n",
       "      <td>9.000000</td>\n",
       "    </tr>\n",
       "    <tr>\n",
       "      <th>max</th>\n",
       "      <td>7.000000</td>\n",
       "      <td>11.000000</td>\n",
       "      <td>4.000000</td>\n",
       "      <td>13.000000</td>\n",
       "      <td>0.900000</td>\n",
       "      <td>1.800000</td>\n",
       "      <td>4.037945</td>\n",
       "      <td>3.000000</td>\n",
       "      <td>1.264911</td>\n",
       "      <td>3.720626</td>\n",
       "      <td>...</td>\n",
       "      <td>6.000000</td>\n",
       "      <td>10.000000</td>\n",
       "      <td>9.000000</td>\n",
       "      <td>12.000000</td>\n",
       "      <td>7.000000</td>\n",
       "      <td>25.000000</td>\n",
       "      <td>19.000000</td>\n",
       "      <td>10.000000</td>\n",
       "      <td>13.000000</td>\n",
       "      <td>23.000000</td>\n",
       "    </tr>\n",
       "  </tbody>\n",
       "</table>\n",
       "<p>8 rows × 26 columns</p>\n",
       "</div>"
      ],
      "text/plain": [
       "           ps_ind_01      ps_ind_03      ps_ind_14      ps_ind_15  \\\n",
       "count  476169.000000  476169.000000  476169.000000  476169.000000   \n",
       "mean        1.901004       4.423929       0.012321       7.299026   \n",
       "std         1.984243       2.700678       0.127104       3.546075   \n",
       "min         0.000000       0.000000       0.000000       0.000000   \n",
       "25%         0.000000       2.000000       0.000000       5.000000   \n",
       "50%         1.000000       4.000000       0.000000       7.000000   \n",
       "75%         3.000000       6.000000       0.000000      10.000000   \n",
       "max         7.000000      11.000000       4.000000      13.000000   \n",
       "\n",
       "           ps_reg_01      ps_reg_02      ps_reg_03      ps_car_11  \\\n",
       "count  476169.000000  476169.000000  476169.000000  476169.000000   \n",
       "mean        0.611008       0.439366       0.877441       2.345984   \n",
       "std         0.287482       0.404367       0.314370       0.832641   \n",
       "min         0.000000       0.000000       0.061237       0.000000   \n",
       "25%         0.400000       0.200000       0.666615       2.000000   \n",
       "50%         0.700000       0.300000       0.801951       3.000000   \n",
       "75%         0.900000       0.600000       1.000625       3.000000   \n",
       "max         0.900000       1.800000       4.037945       3.000000   \n",
       "\n",
       "           ps_car_12      ps_car_13      ...           ps_calc_05  \\\n",
       "count  476169.000000  476169.000000      ...        476169.000000   \n",
       "mean        0.379886       0.812921      ...             1.885935   \n",
       "std         0.058221       0.224257      ...             1.135695   \n",
       "min         0.100000       0.250619      ...             0.000000   \n",
       "25%         0.316228       0.670617      ...             1.000000   \n",
       "50%         0.374166       0.765582      ...             2.000000   \n",
       "75%         0.400000       0.905755      ...             3.000000   \n",
       "max         1.264911       3.720626      ...             6.000000   \n",
       "\n",
       "          ps_calc_06     ps_calc_07     ps_calc_08     ps_calc_09  \\\n",
       "count  476169.000000  476169.000000  476169.000000  476169.000000   \n",
       "mean        7.691024       3.005349       9.226027       2.337996   \n",
       "std         1.334917       1.414745       1.459524       1.247195   \n",
       "min         0.000000       0.000000       2.000000       0.000000   \n",
       "25%         7.000000       2.000000       8.000000       1.000000   \n",
       "50%         8.000000       3.000000       9.000000       2.000000   \n",
       "75%         9.000000       4.000000      10.000000       3.000000   \n",
       "max        10.000000       9.000000      12.000000       7.000000   \n",
       "\n",
       "          ps_calc_10     ps_calc_11     ps_calc_12     ps_calc_13  \\\n",
       "count  476169.000000  476169.000000  476169.000000  476169.000000   \n",
       "mean        8.433002       5.440890       1.441929       2.871985   \n",
       "std         2.904316       2.332966       1.202766       1.694820   \n",
       "min         0.000000       0.000000       0.000000       0.000000   \n",
       "25%         6.000000       4.000000       1.000000       2.000000   \n",
       "50%         8.000000       5.000000       1.000000       3.000000   \n",
       "75%        10.000000       7.000000       2.000000       4.000000   \n",
       "max        25.000000      19.000000      10.000000      13.000000   \n",
       "\n",
       "          ps_calc_14  \n",
       "count  476169.000000  \n",
       "mean        7.539964  \n",
       "std         2.745810  \n",
       "min         0.000000  \n",
       "25%         6.000000  \n",
       "50%         7.000000  \n",
       "75%         9.000000  \n",
       "max        23.000000  \n",
       "\n",
       "[8 rows x 26 columns]"
      ]
     },
     "execution_count": 25,
     "metadata": {},
     "output_type": "execute_result"
    }
   ],
   "source": [
    "ps_train_num = ps_train[columns['num']]\n",
    "ps_train_num_iptd = pandas.DataFrame(num_imputer.fit_transform(ps_train_num), columns=columns['num'])\n",
    "ps_train_num_iptd.describe()"
   ]
  },
  {
   "cell_type": "code",
   "execution_count": 26,
   "metadata": {
    "collapsed": false,
    "deletable": true,
    "editable": true
   },
   "outputs": [
    {
     "data": {
      "text/html": [
       "<div>\n",
       "<table border=\"1\" class=\"dataframe\">\n",
       "  <thead>\n",
       "    <tr style=\"text-align: right;\">\n",
       "      <th></th>\n",
       "      <th>ps_ind_01</th>\n",
       "      <th>ps_ind_03</th>\n",
       "      <th>ps_ind_14</th>\n",
       "      <th>ps_ind_15</th>\n",
       "      <th>ps_reg_01</th>\n",
       "      <th>ps_reg_02</th>\n",
       "      <th>ps_reg_03</th>\n",
       "      <th>ps_car_11</th>\n",
       "      <th>ps_car_12</th>\n",
       "      <th>ps_car_13</th>\n",
       "      <th>...</th>\n",
       "      <th>ps_calc_05</th>\n",
       "      <th>ps_calc_06</th>\n",
       "      <th>ps_calc_07</th>\n",
       "      <th>ps_calc_08</th>\n",
       "      <th>ps_calc_09</th>\n",
       "      <th>ps_calc_10</th>\n",
       "      <th>ps_calc_11</th>\n",
       "      <th>ps_calc_12</th>\n",
       "      <th>ps_calc_13</th>\n",
       "      <th>ps_calc_14</th>\n",
       "    </tr>\n",
       "  </thead>\n",
       "  <tbody>\n",
       "    <tr>\n",
       "      <th>count</th>\n",
       "      <td>4.761690e+05</td>\n",
       "      <td>4.761690e+05</td>\n",
       "      <td>4.761690e+05</td>\n",
       "      <td>4.761690e+05</td>\n",
       "      <td>4.761690e+05</td>\n",
       "      <td>4.761690e+05</td>\n",
       "      <td>4.761690e+05</td>\n",
       "      <td>4.761690e+05</td>\n",
       "      <td>4.761690e+05</td>\n",
       "      <td>4.761690e+05</td>\n",
       "      <td>...</td>\n",
       "      <td>4.761690e+05</td>\n",
       "      <td>4.761690e+05</td>\n",
       "      <td>4.761690e+05</td>\n",
       "      <td>4.761690e+05</td>\n",
       "      <td>4.761690e+05</td>\n",
       "      <td>4.761690e+05</td>\n",
       "      <td>4.761690e+05</td>\n",
       "      <td>4.761690e+05</td>\n",
       "      <td>4.761690e+05</td>\n",
       "      <td>4.761690e+05</td>\n",
       "    </tr>\n",
       "    <tr>\n",
       "      <th>mean</th>\n",
       "      <td>5.177958e-17</td>\n",
       "      <td>-1.518992e-16</td>\n",
       "      <td>-4.655686e-18</td>\n",
       "      <td>9.529234e-17</td>\n",
       "      <td>-3.637199e-16</td>\n",
       "      <td>-1.260915e-17</td>\n",
       "      <td>-5.119650e-16</td>\n",
       "      <td>2.536677e-16</td>\n",
       "      <td>-1.659095e-15</td>\n",
       "      <td>-1.411926e-15</td>\n",
       "      <td>...</td>\n",
       "      <td>-5.118270e-18</td>\n",
       "      <td>-1.202719e-16</td>\n",
       "      <td>1.526677e-16</td>\n",
       "      <td>5.797784e-17</td>\n",
       "      <td>5.709930e-17</td>\n",
       "      <td>2.960837e-16</td>\n",
       "      <td>2.033580e-16</td>\n",
       "      <td>1.671272e-18</td>\n",
       "      <td>-2.303222e-17</td>\n",
       "      <td>1.116917e-17</td>\n",
       "    </tr>\n",
       "    <tr>\n",
       "      <th>std</th>\n",
       "      <td>1.000001e+00</td>\n",
       "      <td>1.000001e+00</td>\n",
       "      <td>1.000001e+00</td>\n",
       "      <td>1.000001e+00</td>\n",
       "      <td>1.000001e+00</td>\n",
       "      <td>1.000001e+00</td>\n",
       "      <td>1.000001e+00</td>\n",
       "      <td>1.000001e+00</td>\n",
       "      <td>1.000001e+00</td>\n",
       "      <td>1.000001e+00</td>\n",
       "      <td>...</td>\n",
       "      <td>1.000001e+00</td>\n",
       "      <td>1.000001e+00</td>\n",
       "      <td>1.000001e+00</td>\n",
       "      <td>1.000001e+00</td>\n",
       "      <td>1.000001e+00</td>\n",
       "      <td>1.000001e+00</td>\n",
       "      <td>1.000001e+00</td>\n",
       "      <td>1.000001e+00</td>\n",
       "      <td>1.000001e+00</td>\n",
       "      <td>1.000001e+00</td>\n",
       "    </tr>\n",
       "    <tr>\n",
       "      <th>min</th>\n",
       "      <td>-9.580508e-01</td>\n",
       "      <td>-1.638083e+00</td>\n",
       "      <td>-9.693839e-02</td>\n",
       "      <td>-2.058342e+00</td>\n",
       "      <td>-2.125384e+00</td>\n",
       "      <td>-1.086554e+00</td>\n",
       "      <td>-2.596321e+00</td>\n",
       "      <td>-2.817524e+00</td>\n",
       "      <td>-4.807267e+00</td>\n",
       "      <td>-2.507403e+00</td>\n",
       "      <td>...</td>\n",
       "      <td>-1.660602e+00</td>\n",
       "      <td>-5.761431e+00</td>\n",
       "      <td>-2.124307e+00</td>\n",
       "      <td>-4.950952e+00</td>\n",
       "      <td>-1.874605e+00</td>\n",
       "      <td>-2.903614e+00</td>\n",
       "      <td>-2.332179e+00</td>\n",
       "      <td>-1.198846e+00</td>\n",
       "      <td>-1.694568e+00</td>\n",
       "      <td>-2.745992e+00</td>\n",
       "    </tr>\n",
       "    <tr>\n",
       "      <th>25%</th>\n",
       "      <td>-9.580508e-01</td>\n",
       "      <td>-8.975271e-01</td>\n",
       "      <td>-9.693839e-02</td>\n",
       "      <td>-6.483306e-01</td>\n",
       "      <td>-7.339895e-01</td>\n",
       "      <td>-5.919532e-01</td>\n",
       "      <td>-6.706328e-01</td>\n",
       "      <td>-4.155267e-01</td>\n",
       "      <td>-1.093380e+00</td>\n",
       "      <td>-6.345588e-01</td>\n",
       "      <td>...</td>\n",
       "      <td>-7.800832e-01</td>\n",
       "      <td>-5.176534e-01</td>\n",
       "      <td>-7.106229e-01</td>\n",
       "      <td>-8.400190e-01</td>\n",
       "      <td>-1.072805e+00</td>\n",
       "      <td>-8.377203e-01</td>\n",
       "      <td>-6.176220e-01</td>\n",
       "      <td>-3.674278e-01</td>\n",
       "      <td>-5.145004e-01</td>\n",
       "      <td>-5.608419e-01</td>\n",
       "    </tr>\n",
       "    <tr>\n",
       "      <th>50%</th>\n",
       "      <td>-4.540797e-01</td>\n",
       "      <td>-1.569716e-01</td>\n",
       "      <td>-9.693839e-02</td>\n",
       "      <td>-8.432606e-02</td>\n",
       "      <td>3.095565e-01</td>\n",
       "      <td>-3.446530e-01</td>\n",
       "      <td>-2.401323e-01</td>\n",
       "      <td>7.854721e-01</td>\n",
       "      <td>-9.824849e-02</td>\n",
       "      <td>-2.110940e-01</td>\n",
       "      <td>...</td>\n",
       "      <td>1.004360e-01</td>\n",
       "      <td>2.314577e-01</td>\n",
       "      <td>-3.780857e-03</td>\n",
       "      <td>-1.548636e-01</td>\n",
       "      <td>-2.710049e-01</td>\n",
       "      <td>-1.490892e-01</td>\n",
       "      <td>-1.889827e-01</td>\n",
       "      <td>-3.674278e-01</td>\n",
       "      <td>7.553347e-02</td>\n",
       "      <td>-1.966503e-01</td>\n",
       "    </tr>\n",
       "    <tr>\n",
       "      <th>75%</th>\n",
       "      <td>5.538623e-01</td>\n",
       "      <td>5.835839e-01</td>\n",
       "      <td>-9.693839e-02</td>\n",
       "      <td>7.616807e-01</td>\n",
       "      <td>1.005254e+00</td>\n",
       "      <td>3.972475e-01</td>\n",
       "      <td>3.918443e-01</td>\n",
       "      <td>7.854721e-01</td>\n",
       "      <td>3.454759e-01</td>\n",
       "      <td>4.139631e-01</td>\n",
       "      <td>...</td>\n",
       "      <td>9.809552e-01</td>\n",
       "      <td>9.805688e-01</td>\n",
       "      <td>7.030612e-01</td>\n",
       "      <td>5.302919e-01</td>\n",
       "      <td>5.307953e-01</td>\n",
       "      <td>5.395419e-01</td>\n",
       "      <td>6.682960e-01</td>\n",
       "      <td>4.639900e-01</td>\n",
       "      <td>6.655673e-01</td>\n",
       "      <td>5.317330e-01</td>\n",
       "    </tr>\n",
       "    <tr>\n",
       "      <th>max</th>\n",
       "      <td>2.569747e+00</td>\n",
       "      <td>2.434973e+00</td>\n",
       "      <td>3.137336e+01</td>\n",
       "      <td>1.607688e+00</td>\n",
       "      <td>1.005254e+00</td>\n",
       "      <td>3.364850e+00</td>\n",
       "      <td>1.005347e+01</td>\n",
       "      <td>7.854721e-01</td>\n",
       "      <td>1.520102e+01</td>\n",
       "      <td>1.296596e+01</td>\n",
       "      <td>...</td>\n",
       "      <td>3.622513e+00</td>\n",
       "      <td>1.729680e+00</td>\n",
       "      <td>4.237272e+00</td>\n",
       "      <td>1.900603e+00</td>\n",
       "      <td>3.737996e+00</td>\n",
       "      <td>5.704275e+00</td>\n",
       "      <td>5.811968e+00</td>\n",
       "      <td>7.115333e+00</td>\n",
       "      <td>5.975872e+00</td>\n",
       "      <td>5.630416e+00</td>\n",
       "    </tr>\n",
       "  </tbody>\n",
       "</table>\n",
       "<p>8 rows × 26 columns</p>\n",
       "</div>"
      ],
      "text/plain": [
       "          ps_ind_01     ps_ind_03     ps_ind_14     ps_ind_15     ps_reg_01  \\\n",
       "count  4.761690e+05  4.761690e+05  4.761690e+05  4.761690e+05  4.761690e+05   \n",
       "mean   5.177958e-17 -1.518992e-16 -4.655686e-18  9.529234e-17 -3.637199e-16   \n",
       "std    1.000001e+00  1.000001e+00  1.000001e+00  1.000001e+00  1.000001e+00   \n",
       "min   -9.580508e-01 -1.638083e+00 -9.693839e-02 -2.058342e+00 -2.125384e+00   \n",
       "25%   -9.580508e-01 -8.975271e-01 -9.693839e-02 -6.483306e-01 -7.339895e-01   \n",
       "50%   -4.540797e-01 -1.569716e-01 -9.693839e-02 -8.432606e-02  3.095565e-01   \n",
       "75%    5.538623e-01  5.835839e-01 -9.693839e-02  7.616807e-01  1.005254e+00   \n",
       "max    2.569747e+00  2.434973e+00  3.137336e+01  1.607688e+00  1.005254e+00   \n",
       "\n",
       "          ps_reg_02     ps_reg_03     ps_car_11     ps_car_12     ps_car_13  \\\n",
       "count  4.761690e+05  4.761690e+05  4.761690e+05  4.761690e+05  4.761690e+05   \n",
       "mean  -1.260915e-17 -5.119650e-16  2.536677e-16 -1.659095e-15 -1.411926e-15   \n",
       "std    1.000001e+00  1.000001e+00  1.000001e+00  1.000001e+00  1.000001e+00   \n",
       "min   -1.086554e+00 -2.596321e+00 -2.817524e+00 -4.807267e+00 -2.507403e+00   \n",
       "25%   -5.919532e-01 -6.706328e-01 -4.155267e-01 -1.093380e+00 -6.345588e-01   \n",
       "50%   -3.446530e-01 -2.401323e-01  7.854721e-01 -9.824849e-02 -2.110940e-01   \n",
       "75%    3.972475e-01  3.918443e-01  7.854721e-01  3.454759e-01  4.139631e-01   \n",
       "max    3.364850e+00  1.005347e+01  7.854721e-01  1.520102e+01  1.296596e+01   \n",
       "\n",
       "           ...         ps_calc_05    ps_calc_06    ps_calc_07    ps_calc_08  \\\n",
       "count      ...       4.761690e+05  4.761690e+05  4.761690e+05  4.761690e+05   \n",
       "mean       ...      -5.118270e-18 -1.202719e-16  1.526677e-16  5.797784e-17   \n",
       "std        ...       1.000001e+00  1.000001e+00  1.000001e+00  1.000001e+00   \n",
       "min        ...      -1.660602e+00 -5.761431e+00 -2.124307e+00 -4.950952e+00   \n",
       "25%        ...      -7.800832e-01 -5.176534e-01 -7.106229e-01 -8.400190e-01   \n",
       "50%        ...       1.004360e-01  2.314577e-01 -3.780857e-03 -1.548636e-01   \n",
       "75%        ...       9.809552e-01  9.805688e-01  7.030612e-01  5.302919e-01   \n",
       "max        ...       3.622513e+00  1.729680e+00  4.237272e+00  1.900603e+00   \n",
       "\n",
       "         ps_calc_09    ps_calc_10    ps_calc_11    ps_calc_12    ps_calc_13  \\\n",
       "count  4.761690e+05  4.761690e+05  4.761690e+05  4.761690e+05  4.761690e+05   \n",
       "mean   5.709930e-17  2.960837e-16  2.033580e-16  1.671272e-18 -2.303222e-17   \n",
       "std    1.000001e+00  1.000001e+00  1.000001e+00  1.000001e+00  1.000001e+00   \n",
       "min   -1.874605e+00 -2.903614e+00 -2.332179e+00 -1.198846e+00 -1.694568e+00   \n",
       "25%   -1.072805e+00 -8.377203e-01 -6.176220e-01 -3.674278e-01 -5.145004e-01   \n",
       "50%   -2.710049e-01 -1.490892e-01 -1.889827e-01 -3.674278e-01  7.553347e-02   \n",
       "75%    5.307953e-01  5.395419e-01  6.682960e-01  4.639900e-01  6.655673e-01   \n",
       "max    3.737996e+00  5.704275e+00  5.811968e+00  7.115333e+00  5.975872e+00   \n",
       "\n",
       "         ps_calc_14  \n",
       "count  4.761690e+05  \n",
       "mean   1.116917e-17  \n",
       "std    1.000001e+00  \n",
       "min   -2.745992e+00  \n",
       "25%   -5.608419e-01  \n",
       "50%   -1.966503e-01  \n",
       "75%    5.317330e-01  \n",
       "max    5.630416e+00  \n",
       "\n",
       "[8 rows x 26 columns]"
      ]
     },
     "execution_count": 26,
     "metadata": {},
     "output_type": "execute_result"
    }
   ],
   "source": [
    "std_scaler = StandardScaler()\n",
    "ps_train_num_scld = pandas.DataFrame(std_scaler.fit_transform(ps_train_num_iptd), columns=columns['num'])\n",
    "ps_train_num_scld.describe()"
   ]
  },
  {
   "cell_type": "code",
   "execution_count": 27,
   "metadata": {
    "collapsed": true,
    "deletable": true,
    "editable": true
   },
   "outputs": [],
   "source": [
    "# Definition of the CategoricalEncoder class, copied from PR #9151.\n",
    "# Just run this cell, or copy it to your code, do not try to understand it (yet).\n",
    "\n",
    "from sklearn.base import BaseEstimator, TransformerMixin\n",
    "from sklearn.utils import check_array\n",
    "from sklearn.preprocessing import LabelEncoder\n",
    "from scipy import sparse\n",
    "\n",
    "class CategoricalEncoder(BaseEstimator, TransformerMixin):\n",
    "    \"\"\"Encode categorical features as a numeric array.\n",
    "    The input to this transformer should be a matrix of integers or strings,\n",
    "    denoting the values taken on by categorical (discrete) features.\n",
    "    The features can be encoded using a one-hot aka one-of-K scheme\n",
    "    (``encoding='onehot'``, the default) or converted to ordinal integers\n",
    "    (``encoding='ordinal'``).\n",
    "    This encoding is needed for feeding categorical data to many scikit-learn\n",
    "    estimators, notably linear models and SVMs with the standard kernels.\n",
    "    Read more in the :ref:`User Guide <preprocessing_categorical_features>`.\n",
    "    Parameters\n",
    "    ----------\n",
    "    encoding : str, 'onehot', 'onehot-dense' or 'ordinal'\n",
    "        The type of encoding to use (default is 'onehot'):\n",
    "        - 'onehot': encode the features using a one-hot aka one-of-K scheme\n",
    "          (or also called 'dummy' encoding). This creates a binary column for\n",
    "          each category and returns a sparse matrix.\n",
    "        - 'onehot-dense': the same as 'onehot' but returns a dense array\n",
    "          instead of a sparse matrix.\n",
    "        - 'ordinal': encode the features as ordinal integers. This results in\n",
    "          a single column of integers (0 to n_categories - 1) per feature.\n",
    "    categories : 'auto' or a list of lists/arrays of values.\n",
    "        Categories (unique values) per feature:\n",
    "        - 'auto' : Determine categories automatically from the training data.\n",
    "        - list : ``categories[i]`` holds the categories expected in the ith\n",
    "          column. The passed categories are sorted before encoding the data\n",
    "          (used categories can be found in the ``categories_`` attribute).\n",
    "    dtype : number type, default np.float64\n",
    "        Desired dtype of output.\n",
    "    handle_unknown : 'error' (default) or 'ignore'\n",
    "        Whether to raise an error or ignore if a unknown categorical feature is\n",
    "        present during transform (default is to raise). When this is parameter\n",
    "        is set to 'ignore' and an unknown category is encountered during\n",
    "        transform, the resulting one-hot encoded columns for this feature\n",
    "        will be all zeros.\n",
    "        Ignoring unknown categories is not supported for\n",
    "        ``encoding='ordinal'``.\n",
    "    Attributes\n",
    "    ----------\n",
    "    categories_ : list of arrays\n",
    "        The categories of each feature determined during fitting. When\n",
    "        categories were specified manually, this holds the sorted categories\n",
    "        (in order corresponding with output of `transform`).\n",
    "    Examples\n",
    "    --------\n",
    "    Given a dataset with three features and two samples, we let the encoder\n",
    "    find the maximum value per feature and transform the data to a binary\n",
    "    one-hot encoding.\n",
    "    >>> from sklearn.preprocessing import CategoricalEncoder\n",
    "    >>> enc = CategoricalEncoder(handle_unknown='ignore')\n",
    "    >>> enc.fit([[0, 0, 3], [1, 1, 0], [0, 2, 1], [1, 0, 2]])\n",
    "    ... # doctest: +ELLIPSIS\n",
    "    CategoricalEncoder(categories='auto', dtype=<... 'numpy.float64'>,\n",
    "              encoding='onehot', handle_unknown='ignore')\n",
    "    >>> enc.transform([[0, 1, 1], [1, 0, 4]]).toarray()\n",
    "    array([[ 1.,  0.,  0.,  1.,  0.,  0.,  1.,  0.,  0.],\n",
    "           [ 0.,  1.,  1.,  0.,  0.,  0.,  0.,  0.,  0.]])\n",
    "    See also\n",
    "    --------\n",
    "    sklearn.preprocessing.OneHotEncoder : performs a one-hot encoding of\n",
    "      integer ordinal features. The ``OneHotEncoder assumes`` that input\n",
    "      features take on values in the range ``[0, max(feature)]`` instead of\n",
    "      using the unique values.\n",
    "    sklearn.feature_extraction.DictVectorizer : performs a one-hot encoding of\n",
    "      dictionary items (also handles string-valued features).\n",
    "    sklearn.feature_extraction.FeatureHasher : performs an approximate one-hot\n",
    "      encoding of dictionary items or strings.\n",
    "    \"\"\"\n",
    "\n",
    "    def __init__(self, encoding='onehot', categories='auto', dtype=np.float64,\n",
    "                 handle_unknown='error'):\n",
    "        self.encoding = encoding\n",
    "        self.categories = categories\n",
    "        self.dtype = dtype\n",
    "        self.handle_unknown = handle_unknown\n",
    "\n",
    "    def fit(self, X, y=None):\n",
    "        \"\"\"Fit the CategoricalEncoder to X.\n",
    "        Parameters\n",
    "        ----------\n",
    "        X : array-like, shape [n_samples, n_feature]\n",
    "            The data to determine the categories of each feature.\n",
    "        Returns\n",
    "        -------\n",
    "        self\n",
    "        \"\"\"\n",
    "\n",
    "        if self.encoding not in ['onehot', 'onehot-dense', 'ordinal']:\n",
    "            template = (\"encoding should be either 'onehot', 'onehot-dense' \"\n",
    "                        \"or 'ordinal', got %s\")\n",
    "            raise ValueError(template % self.handle_unknown)\n",
    "\n",
    "        if self.handle_unknown not in ['error', 'ignore']:\n",
    "            template = (\"handle_unknown should be either 'error' or \"\n",
    "                        \"'ignore', got %s\")\n",
    "            raise ValueError(template % self.handle_unknown)\n",
    "\n",
    "        if self.encoding == 'ordinal' and self.handle_unknown == 'ignore':\n",
    "            raise ValueError(\"handle_unknown='ignore' is not supported for\"\n",
    "                             \" encoding='ordinal'\")\n",
    "\n",
    "        X = check_array(X, dtype=np.object, accept_sparse='csc', copy=True)\n",
    "        n_samples, n_features = X.shape\n",
    "\n",
    "        self._label_encoders_ = [LabelEncoder() for _ in range(n_features)]\n",
    "\n",
    "        for i in range(n_features):\n",
    "            le = self._label_encoders_[i]\n",
    "            Xi = X[:, i]\n",
    "            if self.categories == 'auto':\n",
    "                le.fit(Xi)\n",
    "            else:\n",
    "                valid_mask = np.in1d(Xi, self.categories[i])\n",
    "                if not np.all(valid_mask):\n",
    "                    if self.handle_unknown == 'error':\n",
    "                        diff = np.unique(Xi[~valid_mask])\n",
    "                        msg = (\"Found unknown categories {0} in column {1}\"\n",
    "                               \" during fit\".format(diff, i))\n",
    "                        raise ValueError(msg)\n",
    "                le.classes_ = np.array(np.sort(self.categories[i]))\n",
    "\n",
    "        self.categories_ = [le.classes_ for le in self._label_encoders_]\n",
    "\n",
    "        return self\n",
    "\n",
    "    def transform(self, X):\n",
    "        \"\"\"Transform X using one-hot encoding.\n",
    "        Parameters\n",
    "        ----------\n",
    "        X : array-like, shape [n_samples, n_features]\n",
    "            The data to encode.\n",
    "        Returns\n",
    "        -------\n",
    "        X_out : sparse matrix or a 2-d array\n",
    "            Transformed input.\n",
    "        \"\"\"\n",
    "        X = check_array(X, accept_sparse='csc', dtype=np.object, copy=True)\n",
    "        n_samples, n_features = X.shape\n",
    "        X_int = np.zeros_like(X, dtype=np.int)\n",
    "        X_mask = np.ones_like(X, dtype=np.bool)\n",
    "\n",
    "        for i in range(n_features):\n",
    "            valid_mask = np.in1d(X[:, i], self.categories_[i])\n",
    "\n",
    "            if not np.all(valid_mask):\n",
    "                if self.handle_unknown == 'error':\n",
    "                    diff = np.unique(X[~valid_mask, i])\n",
    "                    msg = (\"Found unknown categories {0} in column {1}\"\n",
    "                           \" during transform\".format(diff, i))\n",
    "                    raise ValueError(msg)\n",
    "                else:\n",
    "                    # Set the problematic rows to an acceptable value and\n",
    "                    # continue `The rows are marked `X_mask` and will be\n",
    "                    # removed later.\n",
    "                    X_mask[:, i] = valid_mask\n",
    "                    X[:, i][~valid_mask] = self.categories_[i][0]\n",
    "            X_int[:, i] = self._label_encoders_[i].transform(X[:, i])\n",
    "\n",
    "        if self.encoding == 'ordinal':\n",
    "            return X_int.astype(self.dtype, copy=False)\n",
    "\n",
    "        mask = X_mask.ravel()\n",
    "        n_values = [cats.shape[0] for cats in self.categories_]\n",
    "        n_values = np.array([0] + n_values)\n",
    "        indices = np.cumsum(n_values)\n",
    "\n",
    "        column_indices = (X_int + indices[:-1]).ravel()[mask]\n",
    "        row_indices = np.repeat(np.arange(n_samples, dtype=np.int32),\n",
    "                                n_features)[mask]\n",
    "        data = np.ones(n_samples * n_features)[mask]\n",
    "\n",
    "        out = sparse.csc_matrix((data, (row_indices, column_indices)),\n",
    "                                shape=(n_samples, indices[-1]),\n",
    "                                dtype=self.dtype).tocsr()\n",
    "        if self.encoding == 'onehot-dense':\n",
    "            return out.toarray()\n",
    "        else:\n",
    "            return out"
   ]
  },
  {
   "cell_type": "code",
   "execution_count": 28,
   "metadata": {
    "collapsed": false,
    "deletable": true,
    "editable": true
   },
   "outputs": [],
   "source": [
    "cat_encoder = CategoricalEncoder()\n",
    "ps_train_cat_1hot = cat_encoder.fit_transform(ps_train_cat_iptd)"
   ]
  },
  {
   "cell_type": "code",
   "execution_count": null,
   "metadata": {
    "collapsed": false,
    "deletable": true,
    "editable": true
   },
   "outputs": [],
   "source": []
  },
  {
   "cell_type": "markdown",
   "metadata": {
    "deletable": true,
    "editable": true
   },
   "source": [
    "# Transformation pipelines"
   ]
  },
  {
   "cell_type": "code",
   "execution_count": 29,
   "metadata": {
    "collapsed": true,
    "deletable": true,
    "editable": true
   },
   "outputs": [],
   "source": [
    "from sklearn.pipeline import Pipeline\n",
    "\n",
    "class DataFrameSelector(BaseEstimator, TransformerMixin):\n",
    "    def __init__(self, attribute_names):\n",
    "        self.attribute_names = attribute_names\n",
    "    def fit(self, X, y=None):\n",
    "        return self\n",
    "    def transform(self, X):\n",
    "        return X[self.attribute_names].values\n",
    "    \n",
    "num_attribs = columns['num']\n",
    "cat_attribs = columns['cat'] + columns['bin']\n",
    "\n",
    "num_pipeline = Pipeline([\n",
    "    ('selector', DataFrameSelector(num_attribs)),\n",
    "    ('imputer', Imputer(strategy=\"median\")),\n",
    "    ('std_scaler', StandardScaler()),\n",
    "])\n",
    "\n",
    "cat_pipeline = Pipeline([\n",
    "    ('selector', DataFrameSelector(cat_attribs)),\n",
    "    ('imputer', Imputer(strategy=\"most_frequent\")),\n",
    "    ('cat_encoder', CategoricalEncoder()),\n",
    "])\n",
    "\n",
    "from sklearn.pipeline import FeatureUnion\n",
    "\n",
    "full_pipeline = FeatureUnion(transformer_list=[\n",
    "    (\"num_pipeline\", num_pipeline),\n",
    "    (\"cat_pipeline\", cat_pipeline),\n",
    "])\n",
    "\n",
    "ps_train_prepared = full_pipeline.fit_transform(ps_train)"
   ]
  },
  {
   "cell_type": "code",
   "execution_count": 30,
   "metadata": {
    "collapsed": false,
    "deletable": true,
    "editable": true
   },
   "outputs": [
    {
     "data": {
      "text/plain": [
       "(476169, 235)"
      ]
     },
     "execution_count": 30,
     "metadata": {},
     "output_type": "execute_result"
    }
   ],
   "source": [
    "ps_train_prepared.shape"
   ]
  },
  {
   "cell_type": "markdown",
   "metadata": {
    "deletable": true,
    "editable": true
   },
   "source": [
    "# Model trials\n",
    "Considering the sample size and number of features, first try SGD Classifier."
   ]
  },
  {
   "cell_type": "code",
   "execution_count": 31,
   "metadata": {
    "collapsed": false,
    "deletable": true,
    "editable": true
   },
   "outputs": [
    {
     "name": "stderr",
     "output_type": "stream",
     "text": [
      "C:\\Users\\Wu\\.edm\\envs\\mle\\lib\\site-packages\\sklearn\\linear_model\\stochastic_gradient.py:84: FutureWarning: max_iter and tol parameters have been added in <class 'sklearn.linear_model.stochastic_gradient.SGDClassifier'> in 0.19. If both are left unset, they default to max_iter=5 and tol=None. If tol is not None, max_iter defaults to max_iter=1000. From 0.21, default max_iter will be 1000, and default tol will be 1e-3.\n",
      "  \"and default tol will be 1e-3.\" % type(self), FutureWarning)\n"
     ]
    },
    {
     "data": {
      "text/plain": [
       "array([[458860,      0],\n",
       "       [ 17309,      0]], dtype=int64)"
      ]
     },
     "execution_count": 31,
     "metadata": {},
     "output_type": "execute_result"
    }
   ],
   "source": [
    "from sklearn.linear_model import SGDClassifier\n",
    "sgd_clf = SGDClassifier(loss=\"log\", penalty=\"l2\")\n",
    "from sklearn.model_selection import cross_val_predict\n",
    "ps_pred_svc = cross_val_predict(sgd_clf, ps_train_prepared, ps_label, cv=3)\n",
    "from sklearn.metrics import confusion_matrix\n",
    "confusion_matrix(ps_label, ps_pred_svc)"
   ]
  },
  {
   "cell_type": "code",
   "execution_count": 32,
   "metadata": {
    "collapsed": false,
    "deletable": true,
    "editable": true
   },
   "outputs": [
    {
     "data": {
      "text/plain": [
       "0    458860\n",
       "1     17309\n",
       "Name: target, dtype: int64"
      ]
     },
     "execution_count": 32,
     "metadata": {},
     "output_type": "execute_result"
    }
   ],
   "source": [
    "ps_label.value_counts()"
   ]
  },
  {
   "cell_type": "markdown",
   "metadata": {
    "deletable": true,
    "editable": true
   },
   "source": [
    "The target values are highly imbalanced. Need to resample the samples with target 0."
   ]
  },
  {
   "cell_type": "code",
   "execution_count": 33,
   "metadata": {
    "collapsed": false,
    "deletable": true,
    "editable": true
   },
   "outputs": [],
   "source": [
    "together = np.concatenate([ps_label[:, None], ps_train_prepared.toarray()], axis=1)\n",
    "\n",
    "idx_0 = (together[:, 0] == 0)\n",
    "idx_1 = (together[:, 0] == 1)\n",
    "\n",
    "from sklearn.utils import resample\n",
    "together0 = together[idx_0]\n",
    "together1 = together[idx_1]\n",
    "together0_rs = resample(together0, n_samples=together0.shape[0]/10, random_state=42)\n",
    "\n",
    "together_recomb = np.concatenate([together0_rs, together1], axis=0)\n",
    "from sklearn.utils import shuffle\n",
    "together_sf = shuffle(together_recomb, random_state=42)"
   ]
  },
  {
   "cell_type": "code",
   "execution_count": 34,
   "metadata": {
    "collapsed": false,
    "deletable": true,
    "editable": true
   },
   "outputs": [
    {
     "data": {
      "text/plain": [
       "array([[36293,  9593],\n",
       "       [12917,  4392]], dtype=int64)"
      ]
     },
     "execution_count": 34,
     "metadata": {},
     "output_type": "execute_result"
    }
   ],
   "source": [
    "sgd_clf = SGDClassifier(loss=\"hinge\", penalty=\"l2\")\n",
    "ps_train_ds = together_sf[:, 1:]\n",
    "ps_label_ds = together_sf[:, 0]\n",
    "ps_pred_sgd = cross_val_predict(sgd_clf, ps_train_ds, ps_label_ds, cv=3)\n",
    "confusion_matrix(ps_label_ds, ps_pred_sgd)"
   ]
  },
  {
   "cell_type": "code",
   "execution_count": 35,
   "metadata": {
    "collapsed": false,
    "deletable": true,
    "editable": true
   },
   "outputs": [],
   "source": [
    "# Compute gini\n",
    "\n",
    "# from CPMP's kernel https://www.kaggle.com/cpmpml/extremely-fast-gini-computation\n",
    "\n",
    "def eval_gini(y_true, y_prob):\n",
    "    y_true = np.asarray(y_true)\n",
    "    y_true = y_true[np.argsort(y_prob)]\n",
    "    ntrue = 0\n",
    "    gini = 0\n",
    "    delta = 0\n",
    "    n = len(y_true)\n",
    "    for i in range(n-1, -1, -1):\n",
    "        y_i = y_true[i]\n",
    "        ntrue += y_i\n",
    "        gini += y_i * delta\n",
    "        delta += 1 - y_i\n",
    "    gini = 1 - 2 * gini / (ntrue * (n - ntrue))\n",
    "    return gini"
   ]
  },
  {
   "cell_type": "code",
   "execution_count": 36,
   "metadata": {
    "collapsed": false,
    "deletable": true,
    "editable": true
   },
   "outputs": [
    {
     "data": {
      "text/plain": [
       "0.035322752140649949"
      ]
     },
     "execution_count": 36,
     "metadata": {},
     "output_type": "execute_result"
    }
   ],
   "source": [
    "eval_gini(ps_label_ds, ps_pred_sgd)"
   ]
  },
  {
   "cell_type": "code",
   "execution_count": 37,
   "metadata": {
    "collapsed": false,
    "deletable": true,
    "editable": true
   },
   "outputs": [
    {
     "name": "stderr",
     "output_type": "stream",
     "text": [
      "C:\\Users\\Wu\\.edm\\envs\\mle\\lib\\site-packages\\sklearn\\linear_model\\stochastic_gradient.py:84: FutureWarning: max_iter and tol parameters have been added in <class 'sklearn.linear_model.stochastic_gradient.SGDRegressor'> in 0.19. If both are left unset, they default to max_iter=5 and tol=None. If tol is not None, max_iter defaults to max_iter=1000. From 0.21, default max_iter will be 1000, and default tol will be 1e-3.\n",
      "  \"and default tol will be 1e-3.\" % type(self), FutureWarning)\n"
     ]
    },
    {
     "data": {
      "text/plain": [
       "0.20509304398920225"
      ]
     },
     "execution_count": 37,
     "metadata": {},
     "output_type": "execute_result"
    }
   ],
   "source": [
    "from sklearn.linear_model import SGDRegressor\n",
    "sgd_reg = SGDRegressor(loss=\"squared_loss\", penalty=\"l2\")\n",
    "ps_pred_sgd = cross_val_predict(sgd_reg, ps_train_ds, ps_label_ds, cv=3)\n",
    "eval_gini(ps_label_ds, ps_pred_sgd)"
   ]
  },
  {
   "cell_type": "code",
   "execution_count": 38,
   "metadata": {
    "collapsed": false,
    "deletable": true,
    "editable": true
   },
   "outputs": [
    {
     "data": {
      "text/plain": [
       "0.23475495605819907"
      ]
     },
     "execution_count": 38,
     "metadata": {},
     "output_type": "execute_result"
    }
   ],
   "source": [
    "from sklearn.linear_model import SGDRegressor\n",
    "sgd_reg = SGDRegressor(loss=\"squared_loss\", penalty=\"l1\")\n",
    "ps_pred_sgd = cross_val_predict(sgd_reg, ps_train_ds, ps_label_ds, cv=3)\n",
    "eval_gini(ps_label_ds, ps_pred_sgd)"
   ]
  },
  {
   "cell_type": "code",
   "execution_count": 39,
   "metadata": {
    "collapsed": false,
    "deletable": true,
    "editable": true
   },
   "outputs": [
    {
     "data": {
      "text/plain": [
       "0.22342075578204956"
      ]
     },
     "execution_count": 39,
     "metadata": {},
     "output_type": "execute_result"
    }
   ],
   "source": [
    "from sklearn.linear_model import SGDRegressor\n",
    "sgd_reg = SGDRegressor(loss=\"huber\", penalty=\"l2\")\n",
    "ps_pred_sgd = cross_val_predict(sgd_reg, ps_train_ds, ps_label_ds, cv=3)\n",
    "eval_gini(ps_label_ds, ps_pred_sgd)"
   ]
  },
  {
   "cell_type": "code",
   "execution_count": 40,
   "metadata": {
    "collapsed": false,
    "deletable": true,
    "editable": true
   },
   "outputs": [
    {
     "data": {
      "text/plain": [
       "0.24015916614223087"
      ]
     },
     "execution_count": 40,
     "metadata": {},
     "output_type": "execute_result"
    }
   ],
   "source": [
    "from sklearn.linear_model import SGDRegressor\n",
    "sgd_reg = SGDRegressor(loss=\"huber\", penalty=\"l1\")\n",
    "ps_pred_sgd = cross_val_predict(sgd_reg, ps_train_ds, ps_label_ds, cv=3)\n",
    "eval_gini(ps_label_ds, ps_pred_sgd)"
   ]
  },
  {
   "cell_type": "code",
   "execution_count": 41,
   "metadata": {
    "collapsed": false,
    "deletable": true,
    "editable": true
   },
   "outputs": [
    {
     "data": {
      "text/plain": [
       "0.12653336530919523"
      ]
     },
     "execution_count": 41,
     "metadata": {},
     "output_type": "execute_result"
    }
   ],
   "source": [
    "from sklearn.linear_model import SGDRegressor\n",
    "sgd_reg = SGDRegressor(loss=\"epsilon_insensitive\", penalty=\"l2\")\n",
    "ps_pred_sgd = cross_val_predict(sgd_reg, ps_train_ds, ps_label_ds, cv=3)\n",
    "eval_gini(ps_label_ds, ps_pred_sgd)"
   ]
  },
  {
   "cell_type": "markdown",
   "metadata": {
    "deletable": true,
    "editable": true
   },
   "source": [
    "# Evaluate on the test set"
   ]
  },
  {
   "cell_type": "code",
   "execution_count": 42,
   "metadata": {
    "collapsed": false,
    "deletable": true,
    "editable": true
   },
   "outputs": [],
   "source": [
    "ps_train = train_set.drop('target', axis=1)\n",
    "ps_train_label = train_set['target'].copy()\n",
    "ps_train.replace(-1, np.nan, inplace=True)\n",
    "\n",
    "ps_test = test_set.drop('target', axis=1)\n",
    "ps_test_label = test_set['target'].copy()\n",
    "ps_test.replace(-1, np.nan, inplace=True)"
   ]
  },
  {
   "cell_type": "code",
   "execution_count": 43,
   "metadata": {
    "collapsed": false,
    "deletable": true,
    "editable": true
   },
   "outputs": [],
   "source": [
    "ps_train_prepared = full_pipeline.transform(ps_train)\n",
    "ps_test_prepared = full_pipeline.transform(ps_test)"
   ]
  },
  {
   "cell_type": "code",
   "execution_count": 44,
   "metadata": {
    "collapsed": false,
    "deletable": true,
    "editable": true
   },
   "outputs": [
    {
     "name": "stdout",
     "output_type": "stream",
     "text": [
      "(476169, 235) (119043, 235)\n"
     ]
    }
   ],
   "source": [
    "print ps_train_prepared.shape, ps_test_prepared.shape"
   ]
  },
  {
   "cell_type": "code",
   "execution_count": 45,
   "metadata": {
    "collapsed": true,
    "deletable": true,
    "editable": true
   },
   "outputs": [],
   "source": [
    "together = np.concatenate([ps_train_label[:, None], ps_train_prepared.toarray()], axis=1)\n",
    "\n",
    "idx_0 = (together[:, 0] == 0)\n",
    "idx_1 = (together[:, 0] == 1)\n",
    "\n",
    "together0 = together[idx_0]\n",
    "together1 = together[idx_1]\n",
    "together0_rs = resample(together0, n_samples=together0.shape[0]/10, random_state=42)\n",
    "\n",
    "together_recomb = np.concatenate([together0_rs, together1], axis=0)\n",
    "together_sf = shuffle(together_recomb, random_state=42)"
   ]
  },
  {
   "cell_type": "code",
   "execution_count": 48,
   "metadata": {
    "collapsed": false,
    "deletable": true,
    "editable": true
   },
   "outputs": [],
   "source": [
    "def gini(actual, pred, cmpcol = 0, sortcol = 1):\n",
    "    assert( len(actual) == len(pred) )\n",
    "    all = np.asarray(np.c_[ actual, pred, np.arange(len(actual)) ], dtype=np.float)\n",
    "    all = all[ np.lexsort((all[:,2], -1*all[:,1])) ]\n",
    "    totalLosses = all[:,0].sum()\n",
    "    giniSum = all[:,0].cumsum().sum() / totalLosses\n",
    " \n",
    "    giniSum -= (len(actual) + 1) / 2.\n",
    "    return giniSum / len(actual)\n",
    " \n",
    "def gini_normalized(a, p):\n",
    "    return gini(a, p) / gini(a, a)"
   ]
  },
  {
   "cell_type": "code",
   "execution_count": 58,
   "metadata": {
    "collapsed": false,
    "deletable": true,
    "editable": true
   },
   "outputs": [
    {
     "data": {
      "text/plain": [
       "0.23246302134571609"
      ]
     },
     "execution_count": 58,
     "metadata": {},
     "output_type": "execute_result"
    }
   ],
   "source": [
    "ps_train_ds = together_sf[:, 1:]\n",
    "ps_train_label_ds = together_sf[:, 0]\n",
    "sgd_reg = SGDRegressor(loss=\"huber\", penalty=\"l1\")\n",
    "ps_pred_sgd = cross_val_predict(sgd_reg, ps_train_ds, ps_train_label_ds, cv=3)\n",
    "gini_normalized(ps_train_label_ds, ps_pred_sgd)"
   ]
  },
  {
   "cell_type": "code",
   "execution_count": 57,
   "metadata": {
    "collapsed": false,
    "deletable": true,
    "editable": true
   },
   "outputs": [
    {
     "data": {
      "text/plain": [
       "0.25350274843437537"
      ]
     },
     "execution_count": 57,
     "metadata": {},
     "output_type": "execute_result"
    }
   ],
   "source": [
    "sgd_reg = SGDRegressor(loss=\"huber\", penalty=\"l1\")\n",
    "sgd_reg.fit(ps_train_ds, ps_train_label_ds)\n",
    "final_pred = sgd_reg.predict(ps_test_prepared)\n",
    "gini_normalized(ps_test_label, final_pred)"
   ]
  },
  {
   "cell_type": "markdown",
   "metadata": {
    "deletable": true,
    "editable": true
   },
   "source": [
    "# First submission"
   ]
  },
  {
   "cell_type": "code",
   "execution_count": 51,
   "metadata": {
    "collapsed": false,
    "deletable": true,
    "editable": true
   },
   "outputs": [],
   "source": [
    "real_test_data = pd.read_csv(os.path.join(DATA_PATH, TEST_DATA_FILE))\n",
    "real_test_data.replace(-1, np.nan, inplace=True)"
   ]
  },
  {
   "cell_type": "code",
   "execution_count": 52,
   "metadata": {
    "collapsed": false,
    "deletable": true,
    "editable": true
   },
   "outputs": [
    {
     "data": {
      "text/plain": [
       "(892816, 235)"
      ]
     },
     "execution_count": 52,
     "metadata": {},
     "output_type": "execute_result"
    }
   ],
   "source": [
    "real_test_prepared = full_pipeline.fit_transform(real_test_data)\n",
    "real_test_prepared.shape"
   ]
  },
  {
   "cell_type": "code",
   "execution_count": 53,
   "metadata": {
    "collapsed": false,
    "deletable": true,
    "editable": true
   },
   "outputs": [],
   "source": [
    "pred_submission = sgd_reg.predict(real_test_prepared)"
   ]
  },
  {
   "cell_type": "code",
   "execution_count": 54,
   "metadata": {
    "collapsed": false,
    "deletable": true,
    "editable": true
   },
   "outputs": [
    {
     "data": {
      "text/html": [
       "<div>\n",
       "<table border=\"1\" class=\"dataframe\">\n",
       "  <thead>\n",
       "    <tr style=\"text-align: right;\">\n",
       "      <th></th>\n",
       "      <th>id</th>\n",
       "      <th>target</th>\n",
       "    </tr>\n",
       "  </thead>\n",
       "  <tbody>\n",
       "    <tr>\n",
       "      <th>count</th>\n",
       "      <td>8.928160e+05</td>\n",
       "      <td>892816.000000</td>\n",
       "    </tr>\n",
       "    <tr>\n",
       "      <th>mean</th>\n",
       "      <td>7.441535e+05</td>\n",
       "      <td>0.037048</td>\n",
       "    </tr>\n",
       "    <tr>\n",
       "      <th>std</th>\n",
       "      <td>4.296830e+05</td>\n",
       "      <td>0.016557</td>\n",
       "    </tr>\n",
       "    <tr>\n",
       "      <th>min</th>\n",
       "      <td>0.000000e+00</td>\n",
       "      <td>-0.006067</td>\n",
       "    </tr>\n",
       "    <tr>\n",
       "      <th>25%</th>\n",
       "      <td>3.720218e+05</td>\n",
       "      <td>0.025126</td>\n",
       "    </tr>\n",
       "    <tr>\n",
       "      <th>50%</th>\n",
       "      <td>7.443070e+05</td>\n",
       "      <td>0.034884</td>\n",
       "    </tr>\n",
       "    <tr>\n",
       "      <th>75%</th>\n",
       "      <td>1.116308e+06</td>\n",
       "      <td>0.046630</td>\n",
       "    </tr>\n",
       "    <tr>\n",
       "      <th>max</th>\n",
       "      <td>1.488026e+06</td>\n",
       "      <td>0.189566</td>\n",
       "    </tr>\n",
       "  </tbody>\n",
       "</table>\n",
       "</div>"
      ],
      "text/plain": [
       "                 id         target\n",
       "count  8.928160e+05  892816.000000\n",
       "mean   7.441535e+05       0.037048\n",
       "std    4.296830e+05       0.016557\n",
       "min    0.000000e+00      -0.006067\n",
       "25%    3.720218e+05       0.025126\n",
       "50%    7.443070e+05       0.034884\n",
       "75%    1.116308e+06       0.046630\n",
       "max    1.488026e+06       0.189566"
      ]
     },
     "execution_count": 54,
     "metadata": {},
     "output_type": "execute_result"
    }
   ],
   "source": [
    "prediction_df = pd.DataFrame()\n",
    "prediction_df['id'] = real_test_data['id'].values\n",
    "prediction_df['target'] = pred_submission\n",
    "prediction_df.describe()"
   ]
  },
  {
   "cell_type": "code",
   "execution_count": 55,
   "metadata": {
    "collapsed": false,
    "deletable": true,
    "editable": true
   },
   "outputs": [
    {
     "data": {
      "text/html": [
       "<div>\n",
       "<table border=\"1\" class=\"dataframe\">\n",
       "  <thead>\n",
       "    <tr style=\"text-align: right;\">\n",
       "      <th></th>\n",
       "      <th>id</th>\n",
       "      <th>target</th>\n",
       "    </tr>\n",
       "  </thead>\n",
       "  <tbody>\n",
       "    <tr>\n",
       "      <th>count</th>\n",
       "      <td>8.928160e+05</td>\n",
       "      <td>892816.000000</td>\n",
       "    </tr>\n",
       "    <tr>\n",
       "      <th>mean</th>\n",
       "      <td>7.441535e+05</td>\n",
       "      <td>0.037048</td>\n",
       "    </tr>\n",
       "    <tr>\n",
       "      <th>std</th>\n",
       "      <td>4.296830e+05</td>\n",
       "      <td>0.016556</td>\n",
       "    </tr>\n",
       "    <tr>\n",
       "      <th>min</th>\n",
       "      <td>0.000000e+00</td>\n",
       "      <td>0.000000</td>\n",
       "    </tr>\n",
       "    <tr>\n",
       "      <th>25%</th>\n",
       "      <td>3.720218e+05</td>\n",
       "      <td>0.025126</td>\n",
       "    </tr>\n",
       "    <tr>\n",
       "      <th>50%</th>\n",
       "      <td>7.443070e+05</td>\n",
       "      <td>0.034884</td>\n",
       "    </tr>\n",
       "    <tr>\n",
       "      <th>75%</th>\n",
       "      <td>1.116308e+06</td>\n",
       "      <td>0.046630</td>\n",
       "    </tr>\n",
       "    <tr>\n",
       "      <th>max</th>\n",
       "      <td>1.488026e+06</td>\n",
       "      <td>0.189566</td>\n",
       "    </tr>\n",
       "  </tbody>\n",
       "</table>\n",
       "</div>"
      ],
      "text/plain": [
       "                 id         target\n",
       "count  8.928160e+05  892816.000000\n",
       "mean   7.441535e+05       0.037048\n",
       "std    4.296830e+05       0.016556\n",
       "min    0.000000e+00       0.000000\n",
       "25%    3.720218e+05       0.025126\n",
       "50%    7.443070e+05       0.034884\n",
       "75%    1.116308e+06       0.046630\n",
       "max    1.488026e+06       0.189566"
      ]
     },
     "execution_count": 55,
     "metadata": {},
     "output_type": "execute_result"
    }
   ],
   "source": [
    "prediction_df.loc[prediction_df['target'] > 1, 'target'] = 1\n",
    "prediction_df.loc[prediction_df['target'] < 0, 'target'] = 0\n",
    "prediction_df.describe()"
   ]
  },
  {
   "cell_type": "code",
   "execution_count": 56,
   "metadata": {
    "collapsed": false,
    "deletable": true,
    "editable": true
   },
   "outputs": [],
   "source": [
    "PREDICTION_FILE = \"prediction.csv\"\n",
    "prediction_df.to_csv(os.path.join(DATA_PATH, PREDICTION_FILE), index=False)"
   ]
  }
 ],
 "metadata": {
  "kernelspec": {
   "display_name": "Python 2",
   "language": "python",
   "name": "python2"
  },
  "language_info": {
   "codemirror_mode": {
    "name": "ipython",
    "version": 2
   },
   "file_extension": ".py",
   "mimetype": "text/x-python",
   "name": "python",
   "nbconvert_exporter": "python",
   "pygments_lexer": "ipython2",
   "version": "2.7.13"
  }
 },
 "nbformat": 4,
 "nbformat_minor": 2
}
